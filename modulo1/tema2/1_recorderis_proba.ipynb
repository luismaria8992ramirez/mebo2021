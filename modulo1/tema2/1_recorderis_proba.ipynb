{
 "cells": [
  {
   "cell_type": "markdown",
   "metadata": {},
   "source": [
    "# Repaso de teoría de probabilidad\n",
    "\n",
    "<img style=\"float: right; margin: 0px 0px 15px 15px;\" src=\"https://storage.needpix.com/rsynced_images/bayesian-2889576_1280.png\" width=\"200px\" height=\"180px\" />\n",
    "\n",
    "> Antes de comenzar en materia, es importante tener claras las bases de teoría de probabilidad sobre las que construiremos todos los métodos que veremos en el curso.\n",
    "\n",
    "> Por esa razón haremos un breve repaso de los conceptos que necesitaremos de teoría de probabilidad.\n",
    "\n",
    "> **Objetivos:**\n",
    "> - Repasar definiciones y resultados básicos de teoría de probabilidad.\n",
    "> - Entender el concepto de independencia.\n",
    "> - Entender el concepto de probabilidad condicional.\n",
    "\n",
    "> **Referencias:**\n",
    "> \n",
    "> - Probabilistic Graphical Models: Principles and Techniques, By Daphne Koller and Nir Friedman. Cap. 2.\n",
    "\n",
    "\n",
    "<p style=\"text-align:right;\"> Imagen recuperada de: https://storage.needpix.com/rsynced_images/bayesian-2889576_1280.png.</p>\n",
    "\n",
    "___"
   ]
  },
  {
   "cell_type": "markdown",
   "metadata": {},
   "source": [
    "## 1. Distribuciones de probabilidad.\n",
    "\n",
    "Normalmente cuando usamos la palabra \"probabilidad\" o vocablos relacionados en la vida cotidiana, nos referimos al grado de confianza que tenemos de que un evento con incertidumbre ocurra.\n",
    "\n",
    "- Por ejemplo: \"es probable que hoy llueva\"; \"probablemente el Bayern Münich gane la champions\".\n",
    "\n",
    "La **teoría de probabilidad** formaliza las bases para discutir la validez de este tipo de afirmaciones, y nos da las reglas que deben cumplir."
   ]
  },
  {
   "cell_type": "markdown",
   "metadata": {},
   "source": [
    "### 1.1. Definición"
   ]
  },
  {
   "cell_type": "markdown",
   "metadata": {},
   "source": [
    "Para definir las *distribuciones de probabilidad*, son necesarios dos ingredientes:\n",
    "\n",
    "1. **Espacio de resultados**: conjunto de posibles resultados, el cual denotamos por $\\Omega$.\n",
    "\n",
    "   - Ejemplo: en la tirada de un dado podríamos considerar $\\Omega=\\{1, 2, 3, 4, 5, 6\\}$.\n",
    "   "
   ]
  },
  {
   "cell_type": "code",
   "execution_count": 1,
   "metadata": {},
   "outputs": [],
   "source": [
    "from sklearn.datasets import load_iris"
   ]
  },
  {
   "cell_type": "code",
   "execution_count": 2,
   "metadata": {},
   "outputs": [],
   "source": [
    "data = load_iris()"
   ]
  },
  {
   "cell_type": "code",
   "execution_count": 3,
   "metadata": {},
   "outputs": [
    {
     "data": {
      "text/plain": [
       "{'data': array([[5.1, 3.5, 1.4, 0.2],\n",
       "        [4.9, 3. , 1.4, 0.2],\n",
       "        [4.7, 3.2, 1.3, 0.2],\n",
       "        [4.6, 3.1, 1.5, 0.2],\n",
       "        [5. , 3.6, 1.4, 0.2],\n",
       "        [5.4, 3.9, 1.7, 0.4],\n",
       "        [4.6, 3.4, 1.4, 0.3],\n",
       "        [5. , 3.4, 1.5, 0.2],\n",
       "        [4.4, 2.9, 1.4, 0.2],\n",
       "        [4.9, 3.1, 1.5, 0.1],\n",
       "        [5.4, 3.7, 1.5, 0.2],\n",
       "        [4.8, 3.4, 1.6, 0.2],\n",
       "        [4.8, 3. , 1.4, 0.1],\n",
       "        [4.3, 3. , 1.1, 0.1],\n",
       "        [5.8, 4. , 1.2, 0.2],\n",
       "        [5.7, 4.4, 1.5, 0.4],\n",
       "        [5.4, 3.9, 1.3, 0.4],\n",
       "        [5.1, 3.5, 1.4, 0.3],\n",
       "        [5.7, 3.8, 1.7, 0.3],\n",
       "        [5.1, 3.8, 1.5, 0.3],\n",
       "        [5.4, 3.4, 1.7, 0.2],\n",
       "        [5.1, 3.7, 1.5, 0.4],\n",
       "        [4.6, 3.6, 1. , 0.2],\n",
       "        [5.1, 3.3, 1.7, 0.5],\n",
       "        [4.8, 3.4, 1.9, 0.2],\n",
       "        [5. , 3. , 1.6, 0.2],\n",
       "        [5. , 3.4, 1.6, 0.4],\n",
       "        [5.2, 3.5, 1.5, 0.2],\n",
       "        [5.2, 3.4, 1.4, 0.2],\n",
       "        [4.7, 3.2, 1.6, 0.2],\n",
       "        [4.8, 3.1, 1.6, 0.2],\n",
       "        [5.4, 3.4, 1.5, 0.4],\n",
       "        [5.2, 4.1, 1.5, 0.1],\n",
       "        [5.5, 4.2, 1.4, 0.2],\n",
       "        [4.9, 3.1, 1.5, 0.2],\n",
       "        [5. , 3.2, 1.2, 0.2],\n",
       "        [5.5, 3.5, 1.3, 0.2],\n",
       "        [4.9, 3.6, 1.4, 0.1],\n",
       "        [4.4, 3. , 1.3, 0.2],\n",
       "        [5.1, 3.4, 1.5, 0.2],\n",
       "        [5. , 3.5, 1.3, 0.3],\n",
       "        [4.5, 2.3, 1.3, 0.3],\n",
       "        [4.4, 3.2, 1.3, 0.2],\n",
       "        [5. , 3.5, 1.6, 0.6],\n",
       "        [5.1, 3.8, 1.9, 0.4],\n",
       "        [4.8, 3. , 1.4, 0.3],\n",
       "        [5.1, 3.8, 1.6, 0.2],\n",
       "        [4.6, 3.2, 1.4, 0.2],\n",
       "        [5.3, 3.7, 1.5, 0.2],\n",
       "        [5. , 3.3, 1.4, 0.2],\n",
       "        [7. , 3.2, 4.7, 1.4],\n",
       "        [6.4, 3.2, 4.5, 1.5],\n",
       "        [6.9, 3.1, 4.9, 1.5],\n",
       "        [5.5, 2.3, 4. , 1.3],\n",
       "        [6.5, 2.8, 4.6, 1.5],\n",
       "        [5.7, 2.8, 4.5, 1.3],\n",
       "        [6.3, 3.3, 4.7, 1.6],\n",
       "        [4.9, 2.4, 3.3, 1. ],\n",
       "        [6.6, 2.9, 4.6, 1.3],\n",
       "        [5.2, 2.7, 3.9, 1.4],\n",
       "        [5. , 2. , 3.5, 1. ],\n",
       "        [5.9, 3. , 4.2, 1.5],\n",
       "        [6. , 2.2, 4. , 1. ],\n",
       "        [6.1, 2.9, 4.7, 1.4],\n",
       "        [5.6, 2.9, 3.6, 1.3],\n",
       "        [6.7, 3.1, 4.4, 1.4],\n",
       "        [5.6, 3. , 4.5, 1.5],\n",
       "        [5.8, 2.7, 4.1, 1. ],\n",
       "        [6.2, 2.2, 4.5, 1.5],\n",
       "        [5.6, 2.5, 3.9, 1.1],\n",
       "        [5.9, 3.2, 4.8, 1.8],\n",
       "        [6.1, 2.8, 4. , 1.3],\n",
       "        [6.3, 2.5, 4.9, 1.5],\n",
       "        [6.1, 2.8, 4.7, 1.2],\n",
       "        [6.4, 2.9, 4.3, 1.3],\n",
       "        [6.6, 3. , 4.4, 1.4],\n",
       "        [6.8, 2.8, 4.8, 1.4],\n",
       "        [6.7, 3. , 5. , 1.7],\n",
       "        [6. , 2.9, 4.5, 1.5],\n",
       "        [5.7, 2.6, 3.5, 1. ],\n",
       "        [5.5, 2.4, 3.8, 1.1],\n",
       "        [5.5, 2.4, 3.7, 1. ],\n",
       "        [5.8, 2.7, 3.9, 1.2],\n",
       "        [6. , 2.7, 5.1, 1.6],\n",
       "        [5.4, 3. , 4.5, 1.5],\n",
       "        [6. , 3.4, 4.5, 1.6],\n",
       "        [6.7, 3.1, 4.7, 1.5],\n",
       "        [6.3, 2.3, 4.4, 1.3],\n",
       "        [5.6, 3. , 4.1, 1.3],\n",
       "        [5.5, 2.5, 4. , 1.3],\n",
       "        [5.5, 2.6, 4.4, 1.2],\n",
       "        [6.1, 3. , 4.6, 1.4],\n",
       "        [5.8, 2.6, 4. , 1.2],\n",
       "        [5. , 2.3, 3.3, 1. ],\n",
       "        [5.6, 2.7, 4.2, 1.3],\n",
       "        [5.7, 3. , 4.2, 1.2],\n",
       "        [5.7, 2.9, 4.2, 1.3],\n",
       "        [6.2, 2.9, 4.3, 1.3],\n",
       "        [5.1, 2.5, 3. , 1.1],\n",
       "        [5.7, 2.8, 4.1, 1.3],\n",
       "        [6.3, 3.3, 6. , 2.5],\n",
       "        [5.8, 2.7, 5.1, 1.9],\n",
       "        [7.1, 3. , 5.9, 2.1],\n",
       "        [6.3, 2.9, 5.6, 1.8],\n",
       "        [6.5, 3. , 5.8, 2.2],\n",
       "        [7.6, 3. , 6.6, 2.1],\n",
       "        [4.9, 2.5, 4.5, 1.7],\n",
       "        [7.3, 2.9, 6.3, 1.8],\n",
       "        [6.7, 2.5, 5.8, 1.8],\n",
       "        [7.2, 3.6, 6.1, 2.5],\n",
       "        [6.5, 3.2, 5.1, 2. ],\n",
       "        [6.4, 2.7, 5.3, 1.9],\n",
       "        [6.8, 3. , 5.5, 2.1],\n",
       "        [5.7, 2.5, 5. , 2. ],\n",
       "        [5.8, 2.8, 5.1, 2.4],\n",
       "        [6.4, 3.2, 5.3, 2.3],\n",
       "        [6.5, 3. , 5.5, 1.8],\n",
       "        [7.7, 3.8, 6.7, 2.2],\n",
       "        [7.7, 2.6, 6.9, 2.3],\n",
       "        [6. , 2.2, 5. , 1.5],\n",
       "        [6.9, 3.2, 5.7, 2.3],\n",
       "        [5.6, 2.8, 4.9, 2. ],\n",
       "        [7.7, 2.8, 6.7, 2. ],\n",
       "        [6.3, 2.7, 4.9, 1.8],\n",
       "        [6.7, 3.3, 5.7, 2.1],\n",
       "        [7.2, 3.2, 6. , 1.8],\n",
       "        [6.2, 2.8, 4.8, 1.8],\n",
       "        [6.1, 3. , 4.9, 1.8],\n",
       "        [6.4, 2.8, 5.6, 2.1],\n",
       "        [7.2, 3. , 5.8, 1.6],\n",
       "        [7.4, 2.8, 6.1, 1.9],\n",
       "        [7.9, 3.8, 6.4, 2. ],\n",
       "        [6.4, 2.8, 5.6, 2.2],\n",
       "        [6.3, 2.8, 5.1, 1.5],\n",
       "        [6.1, 2.6, 5.6, 1.4],\n",
       "        [7.7, 3. , 6.1, 2.3],\n",
       "        [6.3, 3.4, 5.6, 2.4],\n",
       "        [6.4, 3.1, 5.5, 1.8],\n",
       "        [6. , 3. , 4.8, 1.8],\n",
       "        [6.9, 3.1, 5.4, 2.1],\n",
       "        [6.7, 3.1, 5.6, 2.4],\n",
       "        [6.9, 3.1, 5.1, 2.3],\n",
       "        [5.8, 2.7, 5.1, 1.9],\n",
       "        [6.8, 3.2, 5.9, 2.3],\n",
       "        [6.7, 3.3, 5.7, 2.5],\n",
       "        [6.7, 3. , 5.2, 2.3],\n",
       "        [6.3, 2.5, 5. , 1.9],\n",
       "        [6.5, 3. , 5.2, 2. ],\n",
       "        [6.2, 3.4, 5.4, 2.3],\n",
       "        [5.9, 3. , 5.1, 1.8]]),\n",
       " 'target': array([0, 0, 0, 0, 0, 0, 0, 0, 0, 0, 0, 0, 0, 0, 0, 0, 0, 0, 0, 0, 0, 0,\n",
       "        0, 0, 0, 0, 0, 0, 0, 0, 0, 0, 0, 0, 0, 0, 0, 0, 0, 0, 0, 0, 0, 0,\n",
       "        0, 0, 0, 0, 0, 0, 1, 1, 1, 1, 1, 1, 1, 1, 1, 1, 1, 1, 1, 1, 1, 1,\n",
       "        1, 1, 1, 1, 1, 1, 1, 1, 1, 1, 1, 1, 1, 1, 1, 1, 1, 1, 1, 1, 1, 1,\n",
       "        1, 1, 1, 1, 1, 1, 1, 1, 1, 1, 1, 1, 2, 2, 2, 2, 2, 2, 2, 2, 2, 2,\n",
       "        2, 2, 2, 2, 2, 2, 2, 2, 2, 2, 2, 2, 2, 2, 2, 2, 2, 2, 2, 2, 2, 2,\n",
       "        2, 2, 2, 2, 2, 2, 2, 2, 2, 2, 2, 2, 2, 2, 2, 2, 2, 2]),\n",
       " 'target_names': array(['setosa', 'versicolor', 'virginica'], dtype='<U10'),\n",
       " 'DESCR': '.. _iris_dataset:\\n\\nIris plants dataset\\n--------------------\\n\\n**Data Set Characteristics:**\\n\\n    :Number of Instances: 150 (50 in each of three classes)\\n    :Number of Attributes: 4 numeric, predictive attributes and the class\\n    :Attribute Information:\\n        - sepal length in cm\\n        - sepal width in cm\\n        - petal length in cm\\n        - petal width in cm\\n        - class:\\n                - Iris-Setosa\\n                - Iris-Versicolour\\n                - Iris-Virginica\\n                \\n    :Summary Statistics:\\n\\n    ============== ==== ==== ======= ===== ====================\\n                    Min  Max   Mean    SD   Class Correlation\\n    ============== ==== ==== ======= ===== ====================\\n    sepal length:   4.3  7.9   5.84   0.83    0.7826\\n    sepal width:    2.0  4.4   3.05   0.43   -0.4194\\n    petal length:   1.0  6.9   3.76   1.76    0.9490  (high!)\\n    petal width:    0.1  2.5   1.20   0.76    0.9565  (high!)\\n    ============== ==== ==== ======= ===== ====================\\n\\n    :Missing Attribute Values: None\\n    :Class Distribution: 33.3% for each of 3 classes.\\n    :Creator: R.A. Fisher\\n    :Donor: Michael Marshall (MARSHALL%PLU@io.arc.nasa.gov)\\n    :Date: July, 1988\\n\\nThe famous Iris database, first used by Sir R.A. Fisher. The dataset is taken\\nfrom Fisher\\'s paper. Note that it\\'s the same as in R, but not as in the UCI\\nMachine Learning Repository, which has two wrong data points.\\n\\nThis is perhaps the best known database to be found in the\\npattern recognition literature.  Fisher\\'s paper is a classic in the field and\\nis referenced frequently to this day.  (See Duda & Hart, for example.)  The\\ndata set contains 3 classes of 50 instances each, where each class refers to a\\ntype of iris plant.  One class is linearly separable from the other 2; the\\nlatter are NOT linearly separable from each other.\\n\\n.. topic:: References\\n\\n   - Fisher, R.A. \"The use of multiple measurements in taxonomic problems\"\\n     Annual Eugenics, 7, Part II, 179-188 (1936); also in \"Contributions to\\n     Mathematical Statistics\" (John Wiley, NY, 1950).\\n   - Duda, R.O., & Hart, P.E. (1973) Pattern Classification and Scene Analysis.\\n     (Q327.D83) John Wiley & Sons.  ISBN 0-471-22361-1.  See page 218.\\n   - Dasarathy, B.V. (1980) \"Nosing Around the Neighborhood: A New System\\n     Structure and Classification Rule for Recognition in Partially Exposed\\n     Environments\".  IEEE Transactions on Pattern Analysis and Machine\\n     Intelligence, Vol. PAMI-2, No. 1, 67-71.\\n   - Gates, G.W. (1972) \"The Reduced Nearest Neighbor Rule\".  IEEE Transactions\\n     on Information Theory, May 1972, 431-433.\\n   - See also: 1988 MLC Proceedings, 54-64.  Cheeseman et al\"s AUTOCLASS II\\n     conceptual clustering system finds 3 classes in the data.\\n   - Many, many more ...',\n",
       " 'feature_names': ['sepal length (cm)',\n",
       "  'sepal width (cm)',\n",
       "  'petal length (cm)',\n",
       "  'petal width (cm)'],\n",
       " 'filename': '/home/esteban/anaconda3/lib/python3.7/site-packages/sklearn/datasets/data/iris.csv'}"
      ]
     },
     "execution_count": 3,
     "metadata": {},
     "output_type": "execute_result"
    }
   ],
   "source": [
    "data"
   ]
  },
  {
   "cell_type": "markdown",
   "metadata": {},
   "source": [
    "2. **Eventos**: los eventos son **subconjuntos** del espacio de resultados a los que queremos asignar una probabilidad. El conjunto de todos los eventos lo denotamos por $\\mathcal{S}$.\n",
    "\n",
    "   - Ejemplo: en el ejemplo de los dados, el *evento* $\\{6\\}$ representa el caso donde el dado cae en seis. El *evento* $\\{1, 3, 5\\}$ representa el caso de que caiga impar.\n",
    "   \n",
    "   Es importante recalcar de que los eventos son subconjuntos más no elementos del espacio de resultados. Formalmente,\n",
    "   \n",
    "   $$\\forall \\alpha \\in \\mathcal{S}, \\alpha \\subseteq \\Omega.$$\n",
    "   \n",
    "   La teoría de probabilidad, requiere que el espacio de todos los eventos, $\\mathcal{S}$, satisfaga tres propiedades básicas:\n",
    "   \n",
    "   - $\\emptyset, \\Omega \\in \\mathcal{S}$: contiene al evento vacío y al evento trivial.\n",
    "   - $\\alpha,\\beta \\in \\mathcal{S} \\Rightarrow \\alpha \\cup \\beta \\in \\mathcal{S}$: cerrado bajo la unión.\n",
    "   - $\\alpha \\in \\mathcal{S} \\Rightarrow (\\Omega - \\alpha) \\in \\mathcal{S}$: cerrado bajo complemento."
   ]
  },
  {
   "cell_type": "markdown",
   "metadata": {},
   "source": [
    "> *Definición.* Una **distribución de probabilidad** $P$ sobre $(\\Omega, \\mathcal{S})$ es una función del espacio de eventos en los números reales $P:\\mathcal{S} \\to \\mathbb{R}$ tal que:\n",
    "> - $P(\\alpha) \\geq 0$, para todo $\\alpha \\in \\mathcal{S}$;\n",
    "> - $P(\\Omega) = 1$; y\n",
    "> - Si $\\alpha, \\beta \\in \\mathcal{S}$ y $\\alpha \\cap \\beta = \\emptyset$, entonces $P(\\alpha \\cup \\beta) = P(\\alpha) + P(\\beta)$."
   ]
  },
  {
   "cell_type": "markdown",
   "metadata": {},
   "source": [
    "Notemos que la anterior definición nos dice que:\n",
    "1. Todas las probabilidades son positivas,\n",
    "2. la probabilidad del evento trivial (todos los posibles resultados) tiene la máxima probabilidad que es de 1,\n",
    "3. la probabilidad de la unión de eventos mutuamente exclusivos es la suma de las probabilidades de los eventos."
   ]
  },
  {
   "cell_type": "markdown",
   "metadata": {},
   "source": [
    "La propiedad 3 en la anterior definición se puede extender para cantidades arbitrarias de eventos:"
   ]
  },
  {
   "cell_type": "markdown",
   "metadata": {},
   "source": [
    "> *Proposición.* Si $P$ es una distribución de probabilidad sobre $(\\Omega, \\mathcal{S})$ y $\\alpha_1,\\dots\\alpha_k\\in\\mathcal{S}$, con $k\\in\\mathbb{N}$, son tales que $\\alpha_i \\cap \\alpha_j = \\emptyset$ para todo $i,j \\leq k$, entonces:\n",
    ">\n",
    "> $$P(\\alpha_1 \\cup \\dots \\cup \\alpha_k) = P(\\alpha_1) + \\dots + P(\\alpha_k).$$\n",
    "\n",
    "> *Prueba.* <font color=green>En clase ...</font>"
   ]
  },
  {
   "cell_type": "markdown",
   "metadata": {},
   "source": [
    "Por otra parte, la definición implica lo siguiente:\n",
    "\n",
    "> *Proposición.* Si $P$ es una distribución de probabilidad sobre $(\\Omega, \\mathcal{S})$, entonces:\n",
    ">\n",
    "> (i) $P(\\emptyset)=0$; y\n",
    ">\n",
    "> (ii) $P(\\alpha \\cup \\beta) = P(\\alpha) + P(\\beta) - P(\\alpha \\cap \\beta)$, para todo $\\alpha, \\beta \\in \\mathcal{S}$.\n",
    "\n",
    "> *Prueba.* <font color=green>En clase ...</font>"
   ]
  },
  {
   "cell_type": "markdown",
   "metadata": {},
   "source": [
    "**Ejemplo:** \n",
    "\n",
    "Retomamos todos estos conceptos sobre el ejemplo básico de la tirada de un dado justo.\n",
    "\n",
    "* Espacio de resultados: $\\Omega=\\{1, 2, 3, 4, 5, 6\\}$.\n",
    "\n",
    "* Eventos a considerar: $\\alpha_1=\\{5\\}$, $\\alpha_2=\\{1, 3, 5\\}$, $\\alpha_3=\\{2, 4, 6\\}$."
   ]
  },
  {
   "cell_type": "markdown",
   "metadata": {},
   "source": [
    "### 1.2. Interpretación de la probabilidad\n",
    "\n",
    "Antes de proseguir, discutamos la interpretación que podemos asignar a las distribuciones de probabilidad.\n",
    "\n",
    "Intuitivamente, la probabilidad $P(\\alpha)$ de un evento $\\alpha$ cuantifica el grado de confianza que tenemos en que $\\alpha$ va a ocurrir. En los casos extremos:\n",
    " - Si $P(\\alpha)=1$, estamos seguros de que alguno de los resultados en $\\alpha$ ocurrirá;\n",
    " - si por el contrario $P(\\alpha)=0$, consideramos que todos los resultados en $\\alpha$ son imposibles.\n",
    "\n",
    "Otros valores representan grados de confianza que yacen entre estos extremos.\n",
    "\n",
    "Sin embargo, esto no nos dice nada acerca de lo que significan los números como tal."
   ]
  },
  {
   "cell_type": "markdown",
   "metadata": {},
   "source": [
    "**Interpretacion frecuentista:**\n",
    "\n",
    "Bajo esta interpretación, vemos las probabilidades como frecuencias de eventos. Esto es, la probabilidad de un evento corresponde con la fracción de veces que ese evento ocurre si el experimento se repitiera de manera *indefinida*.\n",
    "\n",
    "Esta interpretación resulta muy intuitiva cuando hablamos acerca de fenómenos físicos concretos: tirar una moneda, tirar un dado, juegos de cartas, entre otros. Por otra parte, es fácil verificar que las frecuencias satisfacen todos los requerimientos de las distribuciones de probabilidad.\n",
    "\n",
    "Sin embargo, esta interpretación no es para nada intuitiva cuando consideramos un evento como \"lloverá mañana\". En este caso resulta poco claro como definir la frecuencia de un evento como este."
   ]
  },
  {
   "cell_type": "markdown",
   "metadata": {},
   "source": [
    "**Interpretación subjetiva:**\n",
    "\n",
    "Esta interpretación representa una afirmación subjetiva del grado de confianza de que el evento ocurrirá.\n",
    "\n",
    "Es decir, si yo digo \"Lloverá mañana con una probabilidad de $30$%\", estoy expresando mi grado de confianza en cuanto a la ocurrencia de ese evento."
   ]
  },
  {
   "cell_type": "markdown",
   "metadata": {},
   "source": [
    "___\n",
    "## 2. Conceptos básicos en teoría de probabilidad."
   ]
  },
  {
   "cell_type": "markdown",
   "metadata": {},
   "source": [
    "### 2.1. Probabilidad condicional"
   ]
  },
  {
   "cell_type": "markdown",
   "metadata": {},
   "source": [
    "Este es el concepto base para **incorporar evidencia (información)** a nuestros análisis."
   ]
  },
  {
   "cell_type": "markdown",
   "metadata": {},
   "source": [
    "Supongamos que estamos observando el conjunto de estudiantes en el curso de métodos Bayesianos. El espacio de resultados es simplemente todos los estudiantes en la población.\n",
    "\n",
    "Supongamos que queremos razonar acerca de las variables de inteligencia y nota final de los estudiantes.\n",
    "\n",
    "Definamos los siguiente eventos:\n",
    " - $\\alpha$: todos los estudiantes con notas iguales o superiores a 9.\n",
    " - $\\beta$: todos los estudiantes que son muy inteligentes.\n",
    " \n",
    "De forma que, usando la distribución de probabilidad sobre esta situación podemos averiguar la probabilidad de cada uno de estos eventos, así como la probabilidad de $\\alpha \\cap \\beta$."
   ]
  },
  {
   "cell_type": "markdown",
   "metadata": {},
   "source": [
    "Teniendo esto en mente, supongamos que sabemos que cierto estudiante obtuvo una nota superior a 9. ¿Qué nos dice esto acerca de us inteligencia?\n",
    "\n",
    "Este tipo de preguntas surgen a cada momento en problemas reales, como ya lo vimos en la motivación.\n",
    "\n",
    "La respuesta a esta pregunta viene dada por la noción de **probabilidad condicional**. Formalmente, \n",
    "\n",
    "> *Definición.* La probabilidad condicional de $\\beta$ dado $\\alpha$ se define como\n",
    "> $$P(\\beta| \\alpha) = \\frac{P(\\alpha \\cap \\beta)}{P(\\alpha)},$$\n",
    "> siempre que $P(\\alpha) \\neq 0$. En el caso en que $P(\\alpha) = 0$, la probabilidad condicional está indefinida.\n",
    "\n",
    "La interpretación (frecuentista) de esta definición es muy simple: La probabilidad condicional de $\\beta$ dado $\\alpha$ es la proporción relativa de los eventos que satisfacen $\\beta$ considerando únicamente los eventos que satisfacen $\\alpha$."
   ]
  },
  {
   "cell_type": "markdown",
   "metadata": {},
   "source": [
    "### 2.2. Regla de la cadena y regla de Bayes"
   ]
  },
  {
   "cell_type": "markdown",
   "metadata": {},
   "source": [
    "Inmediatamente de la definición de probabilidad condicional, obtenemos que\n",
    "\n",
    "$$P(\\alpha \\cap \\beta) = P(\\alpha)P(\\beta| \\alpha).$$\n",
    "\n",
    "Esta igualdad se conoce como **regla de la cadena de proabilidades condicionales**.\n",
    "\n",
    "A partir de esto, es posible demostrar que:"
   ]
  },
  {
   "cell_type": "markdown",
   "metadata": {},
   "source": [
    "> *Proposición.* (**Regla de la cadena**) Sean $\\alpha_1,\\dots,\\alpha_k$ eventos, con $k\\in\\mathbb{N}$. Entonces,\n",
    ">\n",
    "> $$P(\\alpha_1\\cap\\dots\\cap\\alpha_k) = P(\\alpha_1)P(\\alpha_2|\\alpha_1)\\dots P(\\alpha_k|\\alpha_1, \\dots, \\alpha_{k-1}).$$\n",
    "\n",
    "> *Prueba.* <font color=red>Tarea ...</font>"
   ]
  },
  {
   "cell_type": "markdown",
   "metadata": {},
   "source": [
    "Por otra parte, también partiendo de la definición de probabilidad condicional, se sigue la **regla de Bayes**:\n",
    "\n",
    "$$P(\\alpha | \\beta) = \\frac{P(\\beta | \\alpha) P(\\alpha)}{P(\\beta)}.$$"
   ]
  },
  {
   "cell_type": "markdown",
   "metadata": {},
   "source": [
    "La regla de Bayes es muy importante debido a quenos permite calcular la probabilidad condicional $P(\\alpha | \\beta)$  a partir de la probabilidad condicional \"inversa\" $P(\\beta | \\alpha)$."
   ]
  },
  {
   "cell_type": "markdown",
   "metadata": {},
   "source": [
    "> *Proposición.* (**Probabilidad condicional en dos eventos**) Sean $\\alpha,\\beta,\\gamma$ eventos. Entonces,\n",
    ">\n",
    "> $$P(\\alpha|\\beta \\cap \\gamma) = \\frac{P(\\alpha \\cap \\beta | \\gamma)}{P(\\beta | \\gamma)}.$$\n",
    "\n",
    "> *Prueba.* <font color=green>En clase ...</font>"
   ]
  },
  {
   "cell_type": "markdown",
   "metadata": {},
   "source": [
    "___\n",
    "## 3. Variables aleatorias (VA) y distribuciones conjuntas"
   ]
  },
  {
   "cell_type": "markdown",
   "metadata": {},
   "source": [
    "### 3.1. Variables aleatorias"
   ]
  },
  {
   "cell_type": "markdown",
   "metadata": {},
   "source": [
    "Hasta ahora, nuestra discusión de distribuciones de probabilidad tenía que ver con eventos. Formalmente, podemos considerar cualquier evento del espacio de eventos.\n",
    "\n",
    "En este sentido, la descripción de los eventos la damos en términos de subconjuntos del espacio de resultados."
   ]
  },
  {
   "cell_type": "markdown",
   "metadata": {},
   "source": [
    "Por otra parte, resulta muchísimo más natural considerar *atributos* de los resultados. Por ejemplo, en el caso de los estudiantes, consideramos atributos como \"nota final\", \"edad\", \"género\", entre otros.\n",
    "\n",
    "De esta manera, nos interesa considerar eventos como \"nota final > 8\", o \"edad < 35\", entre otros."
   ]
  },
  {
   "cell_type": "markdown",
   "metadata": {},
   "source": [
    "La manera formal de razonar usando atributos de los diferentes resultados es usando el concepto de **variables aleatorias** (VA). Una VA es una manera de definir un evento de los resultados que satisfacen cierto atributo.\n",
    "\n",
    "Por ejemplo, la expresión $P(nota final > 8)$ representa la probabilidad de que un estudiante cualquiera obtenga una nota superior a 8.\n",
    "\n",
    "Formalmente,\n",
    "\n",
    "> *Definición.* Una **variable aleatoria** $X$ es una función que asocia a cada elemento en el espacio de resultados $\\Omega$ un valor."
   ]
  },
  {
   "cell_type": "markdown",
   "metadata": {},
   "source": [
    "De manera que si $X$ es por ejemplo la VA de nota final, usaremos de manera concisa la expresión $X>8$ para referirnos al evento ${\\omega\\in\\Omega: X(\\omega) > 8}$ de todos los estudiantes que obtuvieron una nota mayor a $8$."
   ]
  },
  {
   "cell_type": "markdown",
   "metadata": {},
   "source": [
    "Usualmete, denotamos a las VA con letras mayúsculas, por ejemplo $X, Y, Z$; y usamos letras munúsculas para referirnos a valores arbitrarios de las VA. Por ejemplo, usamos expresiones como:\n",
    "\n",
    "$$P(X=x)\\geq 0, \\text{ para todo } x\\in\\mathrm{Val}(X).$$"
   ]
  },
  {
   "cell_type": "markdown",
   "metadata": {},
   "source": [
    "Dependiendo de los tipos de valores que pueden tomar las VAs, consideramos dos tipos:\n",
    "\n",
    "#### Discretas\n",
    "\n",
    "![dice](https://upload.wikimedia.org/wikipedia/commons/thumb/c/c4/2-Dice-Icon.svg/600px-2-Dice-Icon.svg.png)\n",
    "\n",
    "- Las variables aleatorias discretas son aquellas que pueden tomar un conjunto **finito** (o a lo sumo **contable** ~ $\\mathbb{N}$) de valores.\n",
    "\n",
    "- Un ejemplo de un fenómeno que podemos modelar con una VA discreta es la tirada de un dado.\n",
    "\n",
    "- En este caso, la manera más conveniente de definir una distribución discreta de probabilidad es a través de la Función de Probabilidad (PMF - Probability Mass Function), la cual nos da el valor de la probabilidad para cada posible valor de la VA.\n",
    "\n",
    "- Por ejemplo, consideramos la VA $X$, para la cual $\\mathrm{Val}(X) = \\{2, 5, 8\\}$. Una función de probabilidad podría ser:\n",
    "  $$\n",
    "  P(X) = \\left\\{\\begin{array}{cc }0.3 & X=2 \\\\ 0.3 & X=5 \\\\ 0.4 & X=8\\end{array}\\right.\n",
    "  $$"
   ]
  },
  {
   "cell_type": "code",
   "execution_count": 4,
   "metadata": {},
   "outputs": [],
   "source": [
    "# Importar matplotlib.pyplot\n",
    "from matplotlib import pyplot as plt\n",
    "# Importar scipy.stats\n",
    "from scipy import stats"
   ]
  },
  {
   "cell_type": "code",
   "execution_count": 5,
   "metadata": {},
   "outputs": [],
   "source": [
    "# Definir listas de valores de X y probabilidades asociadas\n",
    "xk = [2, 5, 8]\n",
    "pk = [0.3, 0.3, 0.4]\n",
    "X = stats.rv_discrete(name=\"X\", values=(xk, pk))"
   ]
  },
  {
   "cell_type": "code",
   "execution_count": 8,
   "metadata": {},
   "outputs": [
    {
     "data": {
      "image/png": "[encoded data removed]",
      "text/plain": [
       "<Figure size 432x288 with 1 Axes>"
      ]
     },
     "metadata": {
      "needs_background": "light"
     },
     "output_type": "display_data"
    }
   ],
   "source": [
    "# Grafico\n",
    "fig, ax = plt.subplots(1, 1)\n",
    "ax.plot(xk, X.pmf(xk), 'ro', ms=12)\n",
    "ax.vlines(xk, 0, X.pmf(xk), colors='r', lw=4)\n",
    "ax.axhline(y=0, color='k')\n",
    "ax.grid()\n",
    "plt.show()"
   ]
  },
  {
   "cell_type": "markdown",
   "metadata": {},
   "source": [
    "Notar que para que sea una distribución válida de probabilidad (acorde a la definición), todas las probabilidades deben sumar 1. Matemáticamente:\n",
    "\n",
    "$$\\sum_{i=1}^{k}P(X=x^i)=1.$$"
   ]
  },
  {
   "cell_type": "code",
   "execution_count": 9,
   "metadata": {},
   "outputs": [
    {
     "data": {
      "text/plain": [
       "1.0"
      ]
     },
     "execution_count": 9,
     "metadata": {},
     "output_type": "execute_result"
    }
   ],
   "source": [
    "# Suma de probabilidades igual a 1\n",
    "sum(pk)"
   ]
  },
  {
   "cell_type": "markdown",
   "metadata": {},
   "source": [
    "#### Continuas\n",
    "\n",
    "![thermo](https://upload.wikimedia.org/wikipedia/commons/e/e0/Thermometer_-_by_Don.jpg)\n",
    "\n",
    "- Las variables aleatorias continuas son aquellas que pueden tomar un valores en rangos continuos (subconjuntos de $\\mathbb{R}$).\n",
    "\n",
    "- Un ejemplo de un fenómeno que podemos modelar con una VA continua es la temperatura del presente día.\n",
    "\n",
    "- En este caso, la manera más conveniente de definir una distribución continua de probabilidad es a través de la Función de Densidad de Probabilidad (PDF - Probability Density Function), la cual asigna un valor no negativo de probabilidad para cada valor real.\n",
    "\n",
    "- Como ejemplo, tomamos la distribución normal $X \\sim \\mathcal{N}(\\mu, \\sigma^2)$:\n",
    "  $$\n",
    "  p(x) = \\frac{1}{\\sqrt{2 \\pi \\sigma^2}} \\exp\\left\\{-\\frac{(x - \\mu)^2}{2 \\sigma^2}\\right\\}.\n",
    "  $$"
   ]
  },
  {
   "cell_type": "code",
   "execution_count": 10,
   "metadata": {},
   "outputs": [],
   "source": [
    "import numpy as np"
   ]
  },
  {
   "cell_type": "code",
   "execution_count": 11,
   "metadata": {},
   "outputs": [],
   "source": [
    "# Definir una VA normal para la temperatura\n",
    "mu, sigma = 20, 2\n",
    "X = stats.norm(loc=mu, scale=sigma)"
   ]
  },
  {
   "cell_type": "code",
   "execution_count": 12,
   "metadata": {},
   "outputs": [
    {
     "data": {
      "image/png": "[encoded data removed]",
      "text/plain": [
       "<Figure size 432x288 with 1 Axes>"
      ]
     },
     "metadata": {
      "needs_background": "light"
     },
     "output_type": "display_data"
    }
   ],
   "source": [
    "# Graficar\n",
    "x = np.linspace(X.ppf(0.01), X.ppf(0.99), 100)\n",
    "fig, ax = plt.subplots(1, 1)\n",
    "ax.plot(x, X.pdf(x), 'r-', lw=5, label='norm pdf')\n",
    "ax.axhline(y=0, color='k')\n",
    "ax.axvline(x=X.mean(), color='g')\n",
    "plt.show()"
   ]
  },
  {
   "cell_type": "markdown",
   "metadata": {},
   "source": [
    "Usando la función de densidad, la probabilidad de que la VA $X$ esté en un intervalo dado $[a,b]$ es:\n",
    "\n",
    "$$\n",
    "P(X \\in [a, b]) = \\int_{a}^{b} p(x) \\mathrm{d}x.\n",
    "$$"
   ]
  },
  {
   "cell_type": "markdown",
   "metadata": {},
   "source": [
    "Así, para que sea una distribución válida de probabilidad (acorde a la definición), la integral de esta función sobre los reales debe ser 1. Matemáticamente:\n",
    "\n",
    "$$\\int_{-\\infty}^{\\infty}p(x) \\mathrm{d}x=1.$$"
   ]
  },
  {
   "cell_type": "code",
   "execution_count": 13,
   "metadata": {},
   "outputs": [
    {
     "data": {
      "text/plain": [
       "1.0"
      ]
     },
     "execution_count": 13,
     "metadata": {},
     "output_type": "execute_result"
    }
   ],
   "source": [
    "# Integral igual a 1\n",
    "X.cdf(x=np.inf)"
   ]
  },
  {
   "cell_type": "markdown",
   "metadata": {},
   "source": [
    "### 3.2. Distribuciones marginales y conjuntas"
   ]
  },
  {
   "cell_type": "markdown",
   "metadata": {},
   "source": [
    "**Distribución marginal**\n",
    "\n",
    "Una vez definimos la VA $X$, podemos considerar la distribución de probabilidad sobre eventos que pueden ser descritos usando $X$. Esta distribución la conocemos como **distribución marginal** sobre la VA $X$, y la denotamos como $P(X)$."
   ]
  },
  {
   "cell_type": "markdown",
   "metadata": {},
   "source": [
    "En el ejemplo del estudiante podemos considerar las VA, $I$(nteligencia) y $N$(ota). \n",
    "\n",
    "Consideramos lo siguiente:\n",
    " - $\\mathrm{Val}(I) = \\{i^0, i^1\\}$, donde $i^1$: inteligente e $i^0$: no tanto.\n",
    " - $\\mathrm{Val}(N) = \\{n^0, n^1, n^2\\}$, donde $n^2$: nota mayor o igual 8; $n^1$: nota mayor o igual a 6 y menor que 8; y $n^0$: nota menor que 6.\n",
    " \n",
    "De manera que para especificar completamente la distribución marginal sobre $I$, necesitamos poder especificar las probabilidades para cada valor de $I$. Concretamente $P(I=i^0) = 0.7$ y $P(I=i^1) = 0.3$.\n",
    "\n",
    "Similarmente, para $N$, $P(N=n^0) = 0.38$, $P(N=n^1) = 0.37$, y $P(N=n^2) = 0.25$."
   ]
  },
  {
   "cell_type": "markdown",
   "metadata": {},
   "source": [
    "**Distribución conjunta**\n",
    "\n",
    "Por otra parte, es muy común que estemos interesados en razonar acerca de varios atributos a la vez. Por ejemplo, nos interesaría el evento $(I=i^1, N=n^2)$.\n",
    "\n",
    "Para poder razonar de esta manera, debemos considerar la **distribución conjunta** sobre estas dos VA.\n",
    "\n",
    "En general, la distribución conjunta sobre un conjunto de VA $\\{X_1,\\dots,X_n\\}$ la denotamos por\n",
    "\n",
    "$$P(X_1,\\dots,X_n)$$\n",
    "\n",
    "y es una distribución que asigna probabilidades a eventos que se especifican en términos de dichas VA.\n",
    "\n",
    "Para el evento en el que estamos interesados, tendríamos:\n",
    "\n",
    "$$\n",
    "P(I=i^1, N=n^2) = 0.18.\n",
    "$$"
   ]
  },
  {
   "cell_type": "markdown",
   "metadata": {},
   "source": [
    "Adicionalmente, la distribución conjunta debe ser coherente con la distribución marginal en el sentido que:\n",
    "\n",
    "$$\n",
    "P(X=x) = \\sum_{y} P(X=x, Y=y) \\qquad \\text{Si las VA son discretas,}\n",
    "$$\n",
    "\n",
    "$$\n",
    "p(x) = \\int_{-\\infty}^{\\infty} p(x, y) \\mathrm{d}y \\qquad \\text{Si las VA son continuas.}\n",
    "$$\n",
    "\n",
    "Ejemplo:"
   ]
  },
  {
   "cell_type": "code",
   "execution_count": 14,
   "metadata": {},
   "outputs": [],
   "source": [
    "from IPython.display import Image"
   ]
  },
  {
   "cell_type": "code",
   "execution_count": 16,
   "metadata": {},
   "outputs": [
    {
     "data": {
      "image/png": "[encoded data removed]",
      "text/plain": [
       "<IPython.core.display.Image object>"
      ]
     },
     "execution_count": 16,
     "metadata": {},
     "output_type": "execute_result"
    }
   ],
   "source": [
    "Image(filename='joint.png')"
   ]
  },
  {
   "cell_type": "markdown",
   "metadata": {},
   "source": [
    "Finalmente, cabe mencionar que las nociones de probabilidad condicional, regla de la cadena y regla de Bayes se extienden naturalmente a VA. Esto es:\n",
    "\n",
    "> *Definición.* Sean $X,Y$ VAs. La probabilidad condicional de $X$ dado $Y$ se define como\n",
    "> $$P(X | Y) = \\frac{P(X, Y)}{P(Y)},$$\n",
    "> siempre que $P(Y) \\neq 0$. En el caso en que $P(Y) = 0$, la probabilidad condicional está indefinida.\n",
    "\n",
    "La anterior definición involucra probabilidad **condicional**, **conjunta** y **marginal**.\n",
    "\n",
    "> *Proposición.* (**Regla de la cadena**) Sean $X_1,\\dots,X_k$ VAs, con $k\\in\\mathbb{N}$. Entonces,\n",
    ">\n",
    "> $$P(X_1,\\dots,X_k) = P(X_1)P(X_2|X_1)\\dots P(X_k| X_1, \\dots, X_{k-1}).$$\n",
    "\n",
    "> *Proposición.* (**Regla de Bayes**) Sean $X,Y$ VAs. Se cumple que:\n",
    "> $$P(X | Y) = \\frac{P(Y | X) P(X)}{P(Y)}.$$\n",
    "\n",
    "> *Proposición.* (**Probabilidad condicional en dos VA**) Sean $X,Y,Z$ VAs. Entonces,\n",
    ">\n",
    "> $$P(X|Y, Z) = \\frac{P(X, Y | Z)}{P(Y | Z)}.$$"
   ]
  },
  {
   "cell_type": "markdown",
   "metadata": {},
   "source": [
    "## 4. Independencia"
   ]
  },
  {
   "cell_type": "markdown",
   "metadata": {},
   "source": [
    "Al definir el concepto de probabilidad condicional lo motivamos porque es el mecanismo básico para incluir evidencia en nuestro razonamiento. De esta manera esperamos, en general que $P(X | Y) \\neq P(X)$.\n",
    "\n",
    "Sin embargo, lo anterior puede no ocurrir en ciertas ocasiones, de manera que $P(X | Y) = P(X)$. Es decir, el conocer $Y$ no cambia en absoluto la probabilidad de $X$. Este concepto lo conocemos como **independencia**"
   ]
  },
  {
   "cell_type": "markdown",
   "metadata": {},
   "source": [
    "> *Definición.* Sean $X,Y$ VAs. Decimos que $X$ es independiente de $Y$ en $P$, o que $P$ satisface $X \\perp Y$, si $P(X |Y) = P(X)$, o si $P(Y)=0$."
   ]
  },
  {
   "cell_type": "markdown",
   "metadata": {},
   "source": [
    "Equivalentemente,"
   ]
  },
  {
   "cell_type": "markdown",
   "metadata": {},
   "source": [
    "> *Proposición.* $P$ satisface $X \\perp Y$ si y solo si $P(X, Y) = P(X) P(Y).$\n",
    "\n",
    "> *Prueba.* <font color=green>En clase ...</font>"
   ]
  },
  {
   "cell_type": "markdown",
   "metadata": {},
   "source": [
    "Como consecuencia inmediata de la anterior proposición, se sigue que la noción de independencia es simétrica. Esto es, si $X \\perp Y$ entonces $Y \\perp X$."
   ]
  },
  {
   "cell_type": "markdown",
   "metadata": {},
   "source": [
    "Como ejemplo, podemos tomar la situación de tirar una moneda al aire. Definimos la VA para el $i-$ésimo tiro de la moneda como:\n",
    "\n",
    "$$\n",
    "X_i = \\left\\{ \\begin{array}{ccc} 1 & \\text{si} & \\text{la moneda cae cara} \\\\\n",
    "                                 0 & \\text{si} & \\text{la moneda cae sello} \\end{array} \\right.\n",
    "$$\n",
    "\n",
    "1. Consideramos los eventos:\n",
    "   - $X_1=1$.\n",
    "   - $X_2=1$.\n",
    "   \n",
    "   Analizar la independencia.\n",
    "   \n",
    "2. Consideramos los eventos:\n",
    "   - $X_1=1$, $X_2=1$\n",
    "   - $X_1=1$, $X_2=1$, $X_3=1$.\n",
    "   \n",
    "   Analizar la independencia."
   ]
  },
  {
   "cell_type": "markdown",
   "metadata": {},
   "source": [
    "## Anuncios parroquiales\n",
    "\n",
    "### 1. Quiz la siguiente clase.\n",
    "### 2. Tarea 1. Para el lunes 30 de Agosto.\n",
    "### 3. [Lectura recomendada](https://medium.com/causal-data-science/if-correlation-doesnt-imply-causation-then-what-does-c74f20d26438).\n",
    "### 4. Para los más visuales, les recomiendo este [material](https://seeing-theory.brown.edu/basic-probability/index.html)"
   ]
  },
  {
   "cell_type": "markdown",
   "metadata": {},
   "source": [
    "<script>\n",
    "  $(document).ready(function(){\n",
    "    $('div.prompt').hide();\n",
    "    $('div.back-to-top').hide();\n",
    "    $('nav#menubar').hide();\n",
    "    $('.breadcrumb').hide();\n",
    "    $('.hidden-print').hide();\n",
    "  });\n",
    "</script>\n",
    "\n",
    "<footer id=\"attribution\" style=\"float:right; color:#808080; background:#fff;\">\n",
    "Created with Jupyter by Esteban Jiménez Rodríguez.\n",
    "</footer>"
   ]
  }
 ],
 "metadata": {
  "kernelspec": {
   "display_name": "Python 3",
   "language": "python",
   "name": "python3"
  },
  "language_info": {
   "codemirror_mode": {
    "name": "ipython",
    "version": 3
   },
   "file_extension": ".py",
   "mimetype": "text/x-python",
   "name": "python",
   "nbconvert_exporter": "python",
   "pygments_lexer": "ipython3",
   "version": "3.7.6"
  }
 },
 "nbformat": 4,
 "nbformat_minor": 4
}
