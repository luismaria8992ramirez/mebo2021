{
 "cells": [
  {
   "cell_type": "markdown",
   "metadata": {},
   "source": [
    "# Tarea 3. Aprendizaje en Línea de Regresión lineal\n",
    "\n",
    "<img style=\"float: right; margin: 0px 0px 15px 15px;\" src=\"https://storage.needpix.com/rsynced_images/bayesian-2889576_1280.png\" width=\"200px\" height=\"180px\" />\n",
    "\n",
    "Para los ejercicios teóricos la orientación es que seas lo más explícit@ posible. Además, cuando se te pida demostrar, que tu exposición sea clara y te apoyes de la escritura matemática con $\\LaTeX$.\n",
    "\n",
    "Recuerda además que ante cualquier duda, me puedes contactar al correo esjimenezro@iteso.mx.\n",
    "\n",
    "<p style=\"text-align:right;\"> Imagen recuperada de: https://storage.needpix.com/rsynced_images/bayesian-2889576_1280.png.</p>\n",
    "\n",
    "___"
   ]
  },
  {
   "cell_type": "markdown",
   "metadata": {},
   "source": [
    "## 1. Parámetros de distribuciones\n",
    "\n",
    "Una de las maneras efectivas de conocer una distribución es ajustando los parámetros de acuerdo a características requeridas.\n",
    "\n",
    "Para cada situación descrita abajo calcule los parámetros $a, b$ de la distribución $\\Gamma(\\lambda|a,b)$ que se ajusten a lo requerido: \n",
    "\n",
    "* El valor más común de $\\lambda$ es 4, y la media es 7.\n",
    "* El valor más común de $\\lambda$ es 10, y la media es 12.\n",
    "* La media de $\\lambda$ es de 22, y la varianza es 3.\n",
    "* La media de $\\lambda$ es de 4, y la varianza es 12."
   ]
  },
  {
   "cell_type": "markdown",
   "metadata": {},
   "source": []
  },
  {
   "cell_type": "markdown",
   "metadata": {},
   "source": []
  },
  {
   "cell_type": "markdown",
   "metadata": {},
   "source": []
  },
  {
   "cell_type": "markdown",
   "metadata": {},
   "source": []
  },
  {
   "cell_type": "markdown",
   "metadata": {},
   "source": [
    "Para cada situación descrita abajo calcule los parámetros $a, b$ de la distribución $B(\\lambda|a,b)$ que se ajusten a lo requerido: \n",
    "\n",
    "* El valor más común de $\\lambda$ es 4, y la media es 7.\n",
    "* El valor más común de $\\lambda$ es 10, y la media es 12.\n",
    "* La media de $\\lambda$ es de 22, y la varianza es 3.\n",
    "* La media de $\\lambda$ es de 4, y la varianza es 12."
   ]
  },
  {
   "cell_type": "markdown",
   "metadata": {},
   "source": []
  },
  {
   "cell_type": "markdown",
   "metadata": {},
   "source": []
  },
  {
   "cell_type": "markdown",
   "metadata": {},
   "source": []
  },
  {
   "cell_type": "markdown",
   "metadata": {},
   "source": []
  },
  {
   "cell_type": "markdown",
   "metadata": {},
   "source": [
    "## 2. Previas conjugadas"
   ]
  },
  {
   "cell_type": "markdown",
   "metadata": {},
   "source": [
    "Supongamos que la función de verosimilitud es de Poisson:\n",
    "\n",
    "$$\n",
    "p(x | \\theta) = Pois(x |\\theta) = \\frac{\\theta^x e^{-\\theta}}{x!} \n",
    "$$\n",
    "\n",
    "donde $x \\in \\mathbb{N}$. Ahora, si elegimos la distribución previa sobre el parámetro $\\theta$ como una distribución Gamma:\n",
    "\n",
    "$$\n",
    "p(\\theta) = \\Gamma(\\theta | a, b) = \\frac{b^a}{\\Gamma(a)} \\theta^{a - 1} \\exp\\{-b \\theta\\}\n",
    "$$\n",
    "\n",
    "Encontrar completamente la densidad de probabilidad posterior\n",
    "\n",
    "$$\n",
    "p(\\theta | x) = \\frac{p(x | \\theta) p(\\theta)}{p(x)}.\n",
    "$$"
   ]
  },
  {
   "cell_type": "markdown",
   "metadata": {},
   "source": []
  },
  {
   "cell_type": "markdown",
   "metadata": {},
   "source": []
  },
  {
   "cell_type": "markdown",
   "metadata": {},
   "source": []
  },
  {
   "cell_type": "markdown",
   "metadata": {},
   "source": []
  },
  {
   "cell_type": "markdown",
   "metadata": {},
   "source": []
  },
  {
   "cell_type": "markdown",
   "metadata": {},
   "source": [
    "<script>\n",
    "  $(document).ready(function(){\n",
    "    $('div.prompt').hide();\n",
    "    $('div.back-to-top').hide();\n",
    "    $('nav#menubar').hide();\n",
    "    $('.breadcrumb').hide();\n",
    "    $('.hidden-print').hide();\n",
    "  });\n",
    "</script>\n",
    "\n",
    "<footer id=\"attribution\" style=\"float:right; color:#808080; background:#fff;\">\n",
    "Created with Jupyter by Esteban Jiménez Rodríguez.\n",
    "</footer>"
   ]
  }
 ],
 "metadata": {
  "kernelspec": {
   "display_name": "Python 3",
   "language": "python",
   "name": "python3"
  },
  "language_info": {
   "codemirror_mode": {
    "name": "ipython",
    "version": 3
   },
   "file_extension": ".py",
   "mimetype": "text/x-python",
   "name": "python",
   "nbconvert_exporter": "python",
   "pygments_lexer": "ipython3",
   "version": "3.7.6"
  }
 },
 "nbformat": 4,
 "nbformat_minor": 4
}
