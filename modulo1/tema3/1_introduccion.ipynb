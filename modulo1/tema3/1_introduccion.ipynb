{
 "cells": [
  {
   "cell_type": "markdown",
   "metadata": {},
   "source": [
    "# ¿Porqué estudiar métodos Bayesianos?\n",
    "\n",
    "<img style=\"float: right; margin: 0px 0px 15px 15px;\" src=\"https://upload.wikimedia.org/wikipedia/commons/1/18/Bayes%27_Theorem_MMB_01.jpg\" width=\"500px\" height=\"300px\" />\n",
    "\n",
    "> El enfoque probabilístico Bayesiano para modelar y estudiar situaciones o fenómenos, se puede resumir en tres principios básicos:\n",
    "  - **Principio 1**: usa todo el conocimiento previo que tengas acerca de la situación/fenómeno que estás modelando.\n",
    "  - **Principio 2**: descarta las posibilidades que no vayan acorde con la evidencia.\n",
    "  - **Principio 3**: evita hacer suposiciones extras.\n",
    "  \n",
    "> Podemos aplicar estos principios en el siguiente ejemplo: vamos caminando cerca del parque metropolitano y vemos a un hombre corriendo, y por puro chisme queremos averiguar porqué este hombre está corriendo. Para esto, se nos ocurren cuatro razones:\n",
    "  1. Porque tiene prisa.\n",
    "  2. Porque está haciendo ejercicio.\n",
    "  3. Porque este hombre siempre corre donde quiera que vaya.\n",
    "  4. Porque vio un perro de tres cabezas.\n",
    "  \n",
    "> - Usando el **Principio 1**, sabemos que los perros de tres cabezas no existen, y por tanto la razón 4 queda descartada.\n",
    "> - Vemos que el hombre no viste ropa deportiva, de modo que usando el **Principio 2**, podemos descartar la razón 2.\n",
    "> - La razón 3 hace muchas suposiciones, por lo que usando el **Principio 3** deberíamos descartar esta razón.\n",
    "> - Finalmente, el razonamiento Bayesiano nos lleva a concluir que el hombre está corriento por la razón 1: porque tiene prisa.\n",
    "\n",
    "> **Objetivos:**\n",
    "> - Entender los principios básicos del enfoque frecuentista y el enfoque Bayesiano.\n",
    "> - Explicar las diferencias entre ambos enfoques.\n",
    "\n",
    "> **Referencias:**\n",
    "> - Bayesian Methods for Machine Learning course, HSE University, Coursera.\n",
    "> - Statistical Rethinking, Richard McElreath, 2018.\n"
   ]
  },
  {
   "cell_type": "markdown",
   "metadata": {},
   "source": [
    "## 1. Enfoque Bayesiano vs. Enfoque Frecuentista\n",
    "\n"
   ]
  },
  {
   "cell_type": "markdown",
   "metadata": {},
   "source": [
    "Los enfoques Bayesiano y Frecuentista de la teoría de probabilidad han coexistido durante un buen tiempo ya, ganando el primero mucha atención por su aplicabilidad en el análisis de datos.\n",
    "\n",
    "Ambos enfoques difieren en muchas dimensiones, de las cuales hablaremos en un momento."
   ]
  },
  {
   "cell_type": "markdown",
   "metadata": {},
   "source": [
    "### 1.1. Interpretación de la probabilidad\n",
    "\n",
    "En nuestro repaso de probabilidad, vimos que se le pueden dar diferentes interpretaciones a la **probabilidad**. \n",
    "\n",
    "- **Enfoque Frecuentista**: la probabilidad relativa a la incertidumbre en un fenómeno es objetiva, y se refiere a la frecuencia relativa con la que ocurre un evento.\n",
    "\n",
    "- **Enfoque Bayesiano**: la probabilidad relativa a la incertidumbre en un fenómeno es subjetiva, y expresa el grado de confianza que tenemos en la ocurrencia de un evento.\n",
    "\n",
    "Por ejemplo, desde el enfoque frecuentista, al tirar una moneda justa al aire decimos que las probabilidades de que caiga cara o sello son ambas iguales a $\\frac{1}{2}$, y no podemos hacer nada más con ello.\n",
    "\n",
    "Por otra parte, desde el enfoque Bayesiano, diríamos que si conocemos la densidad de la moneda, así como su posición y velocidad inicial, podríamos predecir de qué lado va a caer."
   ]
  },
  {
   "cell_type": "markdown",
   "metadata": {},
   "source": [
    "### 1.2. ¿Qué es aleatorio?, ¿Los datos $X$?, ¿O los parámetros $\\theta$?\n",
    "\n",
    "En cuanto al modelado de datos, ambos enfoques difieren fundamentalmente. Estas diferencias tendrán impacto directo en como se modelan los datos.\n",
    "\n",
    "- **Enfoque Frecuentista**: el modelo que produce los datos tiene parámetros $\\theta$ fijos, y los datos $X$ son realizaciones aleatorias de este modelo. En este sentido, dado un conjunto de datos, queremos encontrar los valores fijos de los parámetros $\\theta$ que maximizan la probabilidad de los datos. Esto es, queremos maximizar **la función de verosimilitud**:\n",
    "\n",
    "  $$\n",
    "  \\max_{\\theta} P(X | \\theta)\n",
    "  $$\n",
    "  \n",
    "- **Enfoque Bayesiano**: totalmente opuesto. Los parámetros $\\theta$ son los que se consideran aleatorios, y los datos $X$ están fijos como evidencia. En este sentido, dado un conjunto de datos, queremos encontrar los valores más probables de los parámetros $\\theta$ de acuerdo a la evidencia $X$. Esto es, queremos maximizar **la función posterior**:\n",
    "\n",
    "  $$\n",
    "  \\max_{\\theta} P(\\theta | X)\n",
    "  $$"
   ]
  },
  {
   "cell_type": "markdown",
   "metadata": {},
   "source": [
    "Acá es donde la **Regla de Bayes** toma muchísimo protagonismo. La función posterior se peude escribir como:\n",
    "\n",
    "$$\n",
    "P(\\theta | X) = \\frac{P(X | \\theta) P(\\theta)}{P(X)},\n",
    "$$\n",
    "\n",
    "donde:\n",
    "- $P(\\theta | X)$ se conoce como **distribución posterior** (en inglés *posterior*). La posterior nos dice la probabilidad de los parámetros después de haber observado los datos.\n",
    "- $P(X | \\theta)$ se conoce como **función de verosimilitud** (en inglés *likelihood*). La verosimilitud nos dice que tan bien los parámetros explican los datos.\n",
    "- $P(\\theta)$ se conoce como **distribución previa** (en inglés *prior*). En la previa, incluimos todo el conocimiento que podamos tener acerca de los parámetros.\n",
    "- $P(X)$ se conoce como **distribución de evidencia** (en inglés *evidence*)."
   ]
  },
  {
   "cell_type": "markdown",
   "metadata": {},
   "source": [
    "Una suposición común del enfoque frecuentista es que la cantidad de datos es mucho mayor a la cantidad de parámetros de los modelos. Bajo el enfoque Bayesiano, los métodos no hacen esta suposición muy a menudo.\n",
    "\n",
    "¿Es esto un problema? Depende. Si usamos modelos de aprendizaje profundo, podríamos llegar a tener [millones de parámetros](https://towardsdatascience.com/illustrated-10-cnn-architectures-95d78ace614d)."
   ]
  },
  {
   "cell_type": "markdown",
   "metadata": {},
   "source": [
    "### 1.3. Entrenamiento de los modelos\n",
    "\n",
    "Como vimos en el punto anterior:\n",
    "\n",
    "- **Enfoque Frecuentista**: se maximiza la probabilidad ocurrencia de los datos capturada por la función de verosimilitud. *Principio de máxima verosimilitud*:\n",
    "\n",
    "$$\n",
    "\\hat{\\theta} = \\arg \\max_{\\theta} P(X | \\theta).\n",
    "$$"
   ]
  },
  {
   "cell_type": "markdown",
   "metadata": {},
   "source": [
    "Por ejemplo, desde un enfoque frecuentista, para un clasificador con datos de entrenamiento $(X_{tr}, y_{tr})$ y datos de predicción $X_p$, maximizaríamos:\n",
    "\n",
    "$$\n",
    "\\hat{\\theta} = \\arg \\max_{\\theta} P(y_{tr} | X_{tr}, \\theta).\n",
    "$$\n",
    "\n",
    "De esta manera, la predicción sería:\n",
    "\n",
    "$$\n",
    "\\hat{y}_p = \\arg \\max_{y_p} P(y_{p} | X_{p}, \\hat{\\theta}).\n",
    "$$\n",
    "\n",
    "Acá observamos que si nuestra estimación de los parámetros $\\hat{\\theta}$ es incorrecta (**overfitting a datos sesgados**), nuestro clasificador tendría un mal comportamiento en la predicción."
   ]
  },
  {
   "cell_type": "markdown",
   "metadata": {},
   "source": [
    "- **Enfoque Bayesiano**: se la distribución de los parámetros según los datos, capturado por la función posterior.\n",
    "\n",
    "$$\n",
    "P(\\theta | X) = \\frac{P(X | \\theta) P(\\theta)}{P(X)}\n",
    "$$"
   ]
  },
  {
   "cell_type": "markdown",
   "metadata": {},
   "source": [
    "Por ejemplo, desde un enfoque Bayesiano, para un clasificador con datos de entrenamiento $(X_{tr}, y_{tr})$ y datos de predicción $X_p$, calcularíamos:\n",
    "\n",
    "$$\n",
    "P(\\theta | X_{tr}, y_{tr}) = \\frac{P(y_{tr} | X_{tr}, \\theta)P(\\theta)}{P(y_{tr} | X_{tr})}.\n",
    "$$\n",
    "\n",
    "y para la predicción calcularíamos:\n",
    "\n",
    "\\begin{align}\n",
    "P(y_p | X_p, X_{tr}, y_{tr}) & = \\int P(y_p, \\theta | X_p, X_{tr}, y_{tr}) \\mathrm{d}\\theta \\qquad \\text{(Marginalización)} \\\\\n",
    "                             & = \\int P(y_p | \\theta, X_p, X_{tr}, y_{tr}) P(\\theta | X_p, X_{tr}, y_{tr}) \\mathrm{d}\\theta \\qquad \\text{(Regla de la cadena)} \\\\\n",
    "                             & = \\int P(y_p | \\theta, X_p) P(\\theta | X_{tr}, y_{tr}) \\mathrm{d}\\theta \\qquad (\\theta \\perp X_p), (y_p \\perp X_{tr}, y_{tr} | \\theta)\n",
    "\\end{align}"
   ]
  },
  {
   "cell_type": "markdown",
   "metadata": {},
   "source": [
    "En este caso, la predicción es un promedio ponderado del nuestro modelo por todos los posibles valores de $\\theta$. Esto tiene un efecto de regularización, con lo que nuestro clasificador es menos propenso a overfitting."
   ]
  },
  {
   "cell_type": "markdown",
   "metadata": {},
   "source": [
    "Es decir, la inclusión del conocimiento de los parámetros en la previa $P(\\theta)$ nos da un efecto **regularizador**."
   ]
  },
  {
   "cell_type": "markdown",
   "metadata": {},
   "source": [
    "Como ventaja adicional frente al enfoque frecuentista, el enfoque Bayesiano nos permite hacer entrenamiento de esquemas online procesando **sólo los nuevos datos**:\n",
    "\n",
    "$$\n",
    "P_k(\\theta) = P(\\theta | x_k) = \\frac{P(x_k | \\theta) P_{k-1}(\\theta)}{P(x_k)}.\n",
    "$$\n",
    "\n",
    "El entrenamiento conseguido por los nuevos datos $x_k$ entra como nuevo conocimiento al siguiente paso. Bajo un enfoque frecuentista, tendríamos que procesar todos los datos cada vez que haya nuevos datos."
   ]
  },
  {
   "cell_type": "markdown",
   "metadata": {},
   "source": [
    "<script>\n",
    "  $(document).ready(function(){\n",
    "    $('div.prompt').hide();\n",
    "    $('div.back-to-top').hide();\n",
    "    $('nav#menubar').hide();\n",
    "    $('.breadcrumb').hide();\n",
    "    $('.hidden-print').hide();\n",
    "  });\n",
    "</script>\n",
    "\n",
    "<footer id=\"attribution\" style=\"float:right; color:#808080; background:#fff;\">\n",
    "Created with Jupyter by Esteban Jiménez Rodríguez.\n",
    "</footer>"
   ]
  }
 ],
 "metadata": {
  "kernelspec": {
   "display_name": "Python 3",
   "language": "python",
   "name": "python3"
  },
  "language_info": {
   "codemirror_mode": {
    "name": "ipython",
    "version": 3
   },
   "file_extension": ".py",
   "mimetype": "text/x-python",
   "name": "python",
   "nbconvert_exporter": "python",
   "pygments_lexer": "ipython3",
   "version": "3.7.6"
  }
 },
 "nbformat": 4,
 "nbformat_minor": 4
}
