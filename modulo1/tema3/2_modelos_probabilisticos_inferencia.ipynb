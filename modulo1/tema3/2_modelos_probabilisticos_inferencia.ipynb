{
 "cells": [
  {
   "cell_type": "markdown",
   "metadata": {},
   "source": [
    "# Modelado Probabilístico e Inferencia\n",
    "\n",
    "![BN](https://upload.wikimedia.org/wikipedia/commons/thumb/0/0e/SimpleBayesNet.svg/1920px-SimpleBayesNet.svg.png)\n",
    "\n",
    "> Ya que vimos las ventajas del enfoque Bayesiano, hablaremos un poco acerca de cómo definir modelos probabilísticos a través de Redes Bayesianas (BN - Bayesian Networks).\n",
    "\n",
    "> **Objetivos:**\n",
    "> - Comprender qué es una red Bayesiana, como definirla, y qué tipo de distribuciones codifica.\n",
    "> - Establecer inferencias probabilísticas sobre una red Bayesiana.\n",
    "\n",
    "> **Referencias:**\n",
    "> \n",
    "> - Probabilistic Graphical Models: Principles and Techniques, By Daphne Koller and Nir Friedman. Cap. 2.\n",
    "> - Bayesian Methods for Machine Learning course, HSE University, Coursera."
   ]
  },
  {
   "cell_type": "markdown",
   "metadata": {},
   "source": [
    "## 1. Redes Bayesianas\n",
    "\n",
    "Una forma muy conveniente de definir modelos probabilísticos es a través de las llamadas **Redes Bayesianas**.\n",
    "\n",
    "> *Definición.* Una **Red Bayesiana** es un grafo (acíclico) dirigido donde los nodos representan variables aleatorias y los arcos representan impacto directo de una variable sobre otra."
   ]
  },
  {
   "cell_type": "markdown",
   "metadata": {},
   "source": [
    "Por ejemplo, podemos considerar la siguiente Red Bayesiana sobre las variables $L$ (lluvia), $R$ (riego), $M$ (pasto mojado):\n",
    "\n",
    "![bn1](figures/BN1.png)"
   ]
  },
  {
   "cell_type": "markdown",
   "metadata": {},
   "source": [
    "Definimos los nodos padres de un nodo $X$ como todos los nodos de los que nazca un arco apuntando hacia $X$. En el ejemplo:\n",
    "\n",
    "- $Pa(M)=\\{R, L\\}$\n",
    "- $Pa(R)=\\{L\\}$\n",
    "- $Pa(L)=\\{\\}$"
   ]
  },
  {
   "cell_type": "markdown",
   "metadata": {},
   "source": [
    "La probabilidad conjunta sobre todas las variables en una red Bayesiana se factoriza como:\n",
    "\n",
    "$$\n",
    "P(X_1, X_2, \\dots, X_n) = \\prod_{k=1}^{n}P(X_k | Pa(X_k)).\n",
    "$$\n",
    "\n",
    "De modo que para nuestro ejemplo, el modelo sería:\n",
    "\n",
    "$$\n",
    "P(L, R, M) = P(L) P(R | L) P(M | L, R)\n",
    "$$"
   ]
  },
  {
   "cell_type": "markdown",
   "metadata": {},
   "source": [
    "## 2. Inferencia en Redes Bayesianas\n",
    "\n",
    "Un caso que ya estamos listos para enfrentar es el ejemplo de una alarma antirobo.\n",
    "\n",
    "En este caso, suponemos que instalamos una alarma antirrobo en nuestras casas la cual se activa mediante un sensor de movimiento. Si un ladrón entra a nuestra casa, el sensor detectará el movimiento y la alarma nos enviará una notificación.\n",
    "\n",
    "Sin embargo, si hay un terremoto, la alarma puede mandarnos una notificación falsa. Adicionalmente, dependiendo de la magnitud del terremoto, habrán reportes de él (aunque la mayoría de terremotos quedan registrados en los institutos sísmicos de cada país, no todos merecen un reporte inmediato, especialmente si son de bajas magnitudes).\n",
    "\n",
    "De modo que un modelo gráfico considerando las variables $L$ (ladrón), $A$ (alarma), $T$ (terremoto) y $R$ (reporte en la radio) es:\n",
    "\n",
    "![bn2](figures/BN2.png)"
   ]
  },
  {
   "cell_type": "markdown",
   "metadata": {},
   "source": [
    "¿Cómo sería la distribución conjunta sobre las variables $L, A, T$ y $R$?\n",
    "\n",
    "$$\n",
    "P(L,A,T,R) = ?\n",
    "$$"
   ]
  },
  {
   "cell_type": "markdown",
   "metadata": {},
   "source": [
    "Tenemos entonces la siguiente información:\n",
    "\n",
    "- $P(L=1) = 0.001$ (una casa de cada mil es robada)\n",
    "- $P(T=1) = 0.01$ (un terremoto cada 100 días)\n",
    "\n",
    "Las probabilidades de que la alarma se active (dadas por el proveedor de alarmas) son:\n",
    "\n",
    "| $L$ | $T$ | $P(A=1 | L, T)$ |\n",
    "| --- | --- | --------------- |\n",
    "| $0$ | $0$ | $0$             |\n",
    "| $0$ | $1$ | $0.1$           |\n",
    "| $1$ | $0$ | $1$             |\n",
    "| $1$ | $1$ | $1$             |\n",
    "\n",
    "Las probabilidades de que un terremoto se reporte en la radio es:\n",
    "\n",
    "| $T$ | $P(R=1 | T)$    |\n",
    "| --- | --------------- |\n",
    "| $0$ | $0$             |\n",
    "| $1$ | $0.5$           |"
   ]
  },
  {
   "cell_type": "markdown",
   "metadata": {},
   "source": [
    "Supongamos que nos llega entonces una notificación de la alarma a nuestro celular. Queremos saber si en efecto la alarma se debe a un ladrón, o no. Esto es, queremos averiguar\n",
    "\n",
    "$$\n",
    "P(T=1|A=1)=?\n",
    "$$\n",
    "\n",
    "<font color=green> Resolver en el pizarrón </font>"
   ]
  },
  {
   "cell_type": "markdown",
   "metadata": {},
   "source": [
    "De modo que te subes al coche y te diriges camino a tu casa, pero al encender la radio escuchas que hubo un terremoto. Ahora, lo que queremos averiguar es:\n",
    "\n",
    "$$\n",
    "P(T=1|A=1, R=1)=?\n",
    "$$\n",
    "\n",
    "<font color=green> Resolver en el pizarrón </font>"
   ]
  },
  {
   "cell_type": "markdown",
   "metadata": {},
   "source": [
    "<script>\n",
    "  $(document).ready(function(){\n",
    "    $('div.prompt').hide();\n",
    "    $('div.back-to-top').hide();\n",
    "    $('nav#menubar').hide();\n",
    "    $('.breadcrumb').hide();\n",
    "    $('.hidden-print').hide();\n",
    "  });\n",
    "</script>\n",
    "\n",
    "<footer id=\"attribution\" style=\"float:right; color:#808080; background:#fff;\">\n",
    "Created with Jupyter by Esteban Jiménez Rodríguez.\n",
    "</footer>"
   ]
  }
 ],
 "metadata": {
  "kernelspec": {
   "display_name": "Python 3",
   "language": "python",
   "name": "python3"
  },
  "language_info": {
   "codemirror_mode": {
    "name": "ipython",
    "version": 3
   },
   "file_extension": ".py",
   "mimetype": "text/x-python",
   "name": "python",
   "nbconvert_exporter": "python",
   "pygments_lexer": "ipython3",
   "version": "3.7.6"
  }
 },
 "nbformat": 4,
 "nbformat_minor": 4
}
