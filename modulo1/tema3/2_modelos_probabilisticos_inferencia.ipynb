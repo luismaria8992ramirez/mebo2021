{
 "cells": [
  {
   "cell_type": "markdown",
   "metadata": {},
   "source": [
    "# Modelado Probabilístico e Inferencia\n",
    "\n",
    "![BN](https://upload.wikimedia.org/wikipedia/commons/thumb/0/0e/SimpleBayesNet.svg/1920px-SimpleBayesNet.svg.png)\n",
    "\n",
    "> Ya que vimos las ventajas del enfoque Bayesiano, hablaremos un poco acerca de cómo definir modelos probabilísticos a través de Redes Bayesianas (BN - Bayesian Networks).\n",
    "\n",
    "> **Objetivos:**\n",
    "> - Comprender qué es una red Bayesiana, como definirla, y qué tipo de distribuciones codifica.\n",
    "> - Establecer inferencias probabilísticas sobre una red Bayesiana.\n",
    "\n",
    "> **Referencias:**\n",
    "> \n",
    "> - Probabilistic Graphical Models: Principles and Techniques, By Daphne Koller and Nir Friedman. Cap. 2.\n",
    "> - Bayesian Methods for Machine Learning course, HSE University, Coursera."
   ]
  },
  {
   "cell_type": "markdown",
   "metadata": {},
   "source": [
    "## 1. Redes Bayesianas\n",
    "\n",
    "Una forma muy conveniente de definir modelos probabilísticos es a través de las llamadas **Redes Bayesianas**.\n",
    "\n",
    "> *Definición.* Una **Red Bayesiana** es un grafo (acíclico) dirigido donde los nodos representan variables aleatorias y los arcos representan impacto directo de una variable sobre otra."
   ]
  },
  {
   "cell_type": "markdown",
   "metadata": {},
   "source": [
    "Por ejemplo, podemos considerar la siguiente Red Bayesiana sobre las variables $L$ (lluvia), $R$ (riego), $M$ (pasto mojado):\n",
    "\n",
    "![bn1](figures/BN1.png)"
   ]
  },
  {
   "cell_type": "markdown",
   "metadata": {},
   "source": [
    "Definimos los nodos padres de un nodo $X$ como todos los nodos de los que nazca un arco apuntando hacia $X$. En el ejemplo:\n",
    "\n",
    "- $Pa(M)=\\{R, L\\}$\n",
    "- $Pa(R)=\\{L\\}$\n",
    "- $Pa(L)=\\{\\}$"
   ]
  },
  {
   "cell_type": "markdown",
   "metadata": {},
   "source": [
    "La probabilidad conjunta sobre todas las variables en una red Bayesiana se factoriza como:\n",
    "\n",
    "$$\n",
    "P(X_1, X_2, \\dots, X_n) = \\prod_{k=1}^{n}P(X_k | Pa(X_k)).\n",
    "$$\n",
    "\n",
    "De modo que para nuestro ejemplo, el modelo sería:\n",
    "\n",
    "$$\n",
    "P(L, R, M) = P(L) P(R | L) P(M | L, R)\n",
    "$$"
   ]
  },
  {
   "cell_type": "markdown",
   "metadata": {},
   "source": [
    "## 2. Inferencia en Redes Bayesianas\n",
    "\n",
    "Un caso que ya estamos listos para enfrentar es el ejemplo de una alarma antirobo.\n",
    "\n",
    "En este caso, suponemos que instalamos una alarma antirrobo en nuestras casas la cual se activa mediante un sensor de movimiento. Si un ladrón entra a nuestra casa, el sensor detectará el movimiento y la alarma nos enviará una notificación.\n",
    "\n",
    "Sin embargo, si hay un terremoto, la alarma puede mandarnos una notificación falsa. Adicionalmente, dependiendo de la magnitud del terremoto, habrán reportes de él (aunque la mayoría de terremotos quedan registrados en los institutos sísmicos de cada país, no todos merecen un reporte inmediato, especialmente si son de bajas magnitudes).\n",
    "\n",
    "De modo que un modelo gráfico considerando las variables $L$ (ladrón), $A$ (alarma), $T$ (terremoto) y $R$ (reporte en la radio) es:\n",
    "\n",
    "![bn2](figures/BN2.png)"
   ]
  },
  {
   "cell_type": "markdown",
   "metadata": {},
   "source": [
    "¿Cómo sería la distribución conjunta sobre las variables $L, A, T$ y $R$?\n",
    "\n",
    "$$\n",
    "P(L,A,T,R) = ?\n",
    "$$"
   ]
  },
  {
   "cell_type": "markdown",
   "metadata": {},
   "source": [
    "Tenemos entonces la siguiente información:\n",
    "\n",
    "- $P(L=1) = 0.001$ (una casa de cada mil es robada)\n",
    "- $P(T=1) = 0.01$ (un terremoto cada 100 días)\n",
    "\n",
    "Las probabilidades de que la alarma se active (dadas por el proveedor de alarmas) son:\n",
    "\n",
    "| $L$ | $T$ | $P(A=1 | L, T)$ |\n",
    "| --- | --- | --------------- |\n",
    "| $0$ | $0$ | $0$             |\n",
    "| $0$ | $1$ | $0.1$           |\n",
    "| $1$ | $0$ | $1$             |\n",
    "| $1$ | $1$ | $1$             |\n",
    "\n",
    "Las probabilidades de que un terremoto se reporte en la radio es:\n",
    "\n",
    "| $T$ | $P(R=1 | T)$    |\n",
    "| --- | --------------- |\n",
    "| $0$ | $0$             |\n",
    "| $1$ | $0.5$           |"
   ]
  },
  {
   "cell_type": "markdown",
   "metadata": {},
   "source": [
    "Supongamos que nos llega entonces una notificación de la alarma a nuestro celular. Queremos saber si en efecto la alarma se debe a un ladrón, o no. Esto es, queremos averiguar\n",
    "\n",
    "$$\n",
    "P(L=1|A=1)=?\n",
    "$$\n",
    "\n",
    "<font color=green> Resolver en el pizarrón </font>"
   ]
  },
  {
   "cell_type": "markdown",
   "metadata": {},
   "source": [
    "De modo que te subes al coche y te diriges camino a tu casa, pero al encender la radio escuchas que hubo un terremoto. Ahora, lo que queremos averiguar es:\n",
    "\n",
    "$$\n",
    "P(L=1|A=1, R=1)=?\n",
    "$$\n",
    "\n",
    "<font color=green> Resolver en el pizarrón </font>"
   ]
  },
  {
   "cell_type": "code",
   "execution_count": 1,
   "metadata": {},
   "outputs": [],
   "source": [
    "import pgmpy"
   ]
  },
  {
   "cell_type": "code",
   "execution_count": 2,
   "metadata": {},
   "outputs": [
    {
     "data": {
      "text/plain": [
       "'0.1.15'"
      ]
     },
     "execution_count": 2,
     "metadata": {},
     "output_type": "execute_result"
    }
   ],
   "source": [
    "pgmpy.__version__"
   ]
  },
  {
   "cell_type": "code",
   "execution_count": 3,
   "metadata": {},
   "outputs": [],
   "source": [
    "# Importamos pgmpy.models.BayesianModel\n",
    "from pgmpy.models import BayesianModel\n",
    "# Importamos pgmpy.factors.discrete.TabularCPD\n",
    "from pgmpy.factors.discrete import TabularCPD"
   ]
  },
  {
   "cell_type": "code",
   "execution_count": 4,
   "metadata": {},
   "outputs": [],
   "source": [
    "# Definimos el esqueleto de la red Bayesiana\n",
    "alarm_model = BayesianModel([('L', 'A'),\n",
    "                             ('T', 'A'),\n",
    "                             ('T', 'R')])"
   ]
  },
  {
   "cell_type": "code",
   "execution_count": 5,
   "metadata": {},
   "outputs": [],
   "source": [
    "# Distribución condicional de L\n",
    "cpd_L = TabularCPD(variable='L',\n",
    "                   variable_card=2,\n",
    "                   values=[[0.999],\n",
    "                           [0.001]])\n",
    "# Distribución condicional de T\n",
    "cpd_T = TabularCPD(variable='T',\n",
    "                   variable_card=2,\n",
    "                   values=[[0.99],\n",
    "                           [0.01]])"
   ]
  },
  {
   "cell_type": "code",
   "execution_count": 6,
   "metadata": {},
   "outputs": [],
   "source": [
    "# Distribución condicional de A | L, T\n",
    "cpd_A = TabularCPD(variable='A',\n",
    "                   variable_card=2,\n",
    "                   evidence=['L', 'T'],\n",
    "                   evidence_card=[2, 2],\n",
    "                   values=[[1, 0.9, 0, 0],\n",
    "                           [0, 0.1, 1, 1]])\n",
    "# Distribución condicional de R | T\n",
    "cpd_R = TabularCPD(variable='R',\n",
    "                   variable_card=2,\n",
    "                   evidence=['T'],\n",
    "                   evidence_card=[2],\n",
    "                   values=[[1, 0.5],\n",
    "                           [0, 0.5]])"
   ]
  },
  {
   "cell_type": "code",
   "execution_count": 7,
   "metadata": {},
   "outputs": [],
   "source": [
    "# Añadir distribuciones al modelo\n",
    "alarm_model.add_cpds(cpd_L, cpd_T, cpd_A, cpd_R)"
   ]
  },
  {
   "cell_type": "code",
   "execution_count": 8,
   "metadata": {},
   "outputs": [
    {
     "data": {
      "text/plain": [
       "True"
      ]
     },
     "execution_count": 8,
     "metadata": {},
     "output_type": "execute_result"
    }
   ],
   "source": [
    "# Verificar el modelo\n",
    "alarm_model.check_model()"
   ]
  },
  {
   "cell_type": "markdown",
   "metadata": {},
   "source": [
    "$$\n",
    "P(L=1|A=1)=?\n",
    "$$"
   ]
  },
  {
   "cell_type": "code",
   "execution_count": 9,
   "metadata": {},
   "outputs": [],
   "source": [
    "# Importar pgmpy.inference.VariableElimination\n",
    "from pgmpy.inference import VariableElimination"
   ]
  },
  {
   "cell_type": "code",
   "execution_count": 10,
   "metadata": {},
   "outputs": [],
   "source": [
    "# Declaramos objeto de inferencia sobre el modelo de alarma\n",
    "inference = VariableElimination(alarm_model)"
   ]
  },
  {
   "cell_type": "code",
   "execution_count": 11,
   "metadata": {},
   "outputs": [],
   "source": [
    "inference.query?"
   ]
  },
  {
   "cell_type": "code",
   "execution_count": 12,
   "metadata": {},
   "outputs": [
    {
     "name": "stderr",
     "output_type": "stream",
     "text": [
      "Finding Elimination Order: : 100%|██████████| 1/1 [00:00<00:00, 703.86it/s]\n",
      "Eliminating: T: 100%|██████████| 1/1 [00:00<00:00, 528.05it/s]\n"
     ]
    }
   ],
   "source": [
    "# P(L | A = 1)\n",
    "p_L_given_A1 = inference.query(variables=[\"L\"],\n",
    "                               evidence={\"A\": 1})"
   ]
  },
  {
   "cell_type": "code",
   "execution_count": 13,
   "metadata": {},
   "outputs": [
    {
     "name": "stdout",
     "output_type": "stream",
     "text": [
      "+------+----------+\n",
      "| L    |   phi(L) |\n",
      "+======+==========+\n",
      "| L(0) |   0.4997 |\n",
      "+------+----------+\n",
      "| L(1) |   0.5003 |\n",
      "+------+----------+\n"
     ]
    }
   ],
   "source": [
    "print(p_L_given_A1)"
   ]
  },
  {
   "cell_type": "markdown",
   "metadata": {},
   "source": [
    "$$\n",
    "P(L=1|A=1, R=1)=?\n",
    "$$"
   ]
  },
  {
   "cell_type": "code",
   "execution_count": 14,
   "metadata": {},
   "outputs": [
    {
     "name": "stderr",
     "output_type": "stream",
     "text": [
      "Finding Elimination Order: : 100%|██████████| 1/1 [00:00<00:00, 540.29it/s]\n",
      "Eliminating: T: 100%|██████████| 1/1 [00:00<00:00, 328.22it/s]\n"
     ]
    }
   ],
   "source": [
    "# P(L | A = 1, R = 1)\n",
    "p_L_given_A1R1 = inference.query(variables=[\"L\"],\n",
    "                                 evidence={\"A\": 1,\n",
    "                                           \"R\": 1})"
   ]
  },
  {
   "cell_type": "code",
   "execution_count": 15,
   "metadata": {},
   "outputs": [
    {
     "name": "stdout",
     "output_type": "stream",
     "text": [
      "+------+----------+\n",
      "| L    |   phi(L) |\n",
      "+======+==========+\n",
      "| L(0) |   0.9901 |\n",
      "+------+----------+\n",
      "| L(1) |   0.0099 |\n",
      "+------+----------+\n"
     ]
    }
   ],
   "source": [
    "print(p_L_given_A1R1)"
   ]
  },
  {
   "cell_type": "code",
   "execution_count": 16,
   "metadata": {},
   "outputs": [
    {
     "name": "stderr",
     "output_type": "stream",
     "text": [
      "Finding Elimination Order: : : 0it [00:00, ?it/s]\n",
      "0it [00:00, ?it/s]\n"
     ]
    }
   ],
   "source": [
    "# P(L | A = 1, R = 1)\n",
    "p_L_given_A1T1 = inference.query(variables=[\"L\"],\n",
    "                                 evidence={\"A\": 1,\n",
    "                                           \"T\": 1})"
   ]
  },
  {
   "cell_type": "code",
   "execution_count": 17,
   "metadata": {},
   "outputs": [
    {
     "name": "stdout",
     "output_type": "stream",
     "text": [
      "+------+----------+\n",
      "| L    |   phi(L) |\n",
      "+======+==========+\n",
      "| L(0) |   0.9901 |\n",
      "+------+----------+\n",
      "| L(1) |   0.0099 |\n",
      "+------+----------+\n"
     ]
    }
   ],
   "source": [
    "print(p_L_given_A1T1)"
   ]
  },
  {
   "cell_type": "markdown",
   "metadata": {},
   "source": [
    "<script>\n",
    "  $(document).ready(function(){\n",
    "    $('div.prompt').hide();\n",
    "    $('div.back-to-top').hide();\n",
    "    $('nav#menubar').hide();\n",
    "    $('.breadcrumb').hide();\n",
    "    $('.hidden-print').hide();\n",
    "  });\n",
    "</script>\n",
    "\n",
    "<footer id=\"attribution\" style=\"float:right; color:#808080; background:#fff;\">\n",
    "Created with Jupyter by Esteban Jiménez Rodríguez.\n",
    "</footer>"
   ]
  }
 ],
 "metadata": {
  "kernelspec": {
   "display_name": "Python 3",
   "language": "python",
   "name": "python3"
  },
  "language_info": {
   "codemirror_mode": {
    "name": "ipython",
    "version": 3
   },
   "file_extension": ".py",
   "mimetype": "text/x-python",
   "name": "python",
   "nbconvert_exporter": "python",
   "pygments_lexer": "ipython3",
   "version": "3.7.6"
  }
 },
 "nbformat": 4,
 "nbformat_minor": 4
}
