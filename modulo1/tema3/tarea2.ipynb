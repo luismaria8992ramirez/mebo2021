{
 "cells": [
  {
   "cell_type": "markdown",
   "metadata": {},
   "source": [
    "# Tarea 2. Una Comprobación Interesante\n",
    "\n",
    "<img style=\"float: right; margin: 0px 0px 15px 15px;\" src=\"https://storage.needpix.com/rsynced_images/bayesian-2889576_1280.png\" width=\"200px\" height=\"180px\" />\n",
    "\n",
    "Para los ejercicios teóricos la orientación es que seas lo más explícit@ posible. Además, cuando se te pida demostrar, que tu exposición sea clara y te apoyes de la escritura matemática con $\\LaTeX$.\n",
    "\n",
    "Recuerda además que ante cualquier duda, me puedes contactar al correo esjimenezro@iteso.mx.\n",
    "\n",
    "<p style=\"text-align:right;\"> Imagen recuperada de: https://storage.needpix.com/rsynced_images/bayesian-2889576_1280.png.</p>\n",
    "\n",
    "___"
   ]
  },
  {
   "cell_type": "markdown",
   "metadata": {},
   "source": [
    "## 1. \n",
    "\n",
    "Sean $f(x) = \\mathcal{N}(x | \\mu_1, \\sigma_1^2) = \\frac{1}{\\sqrt{2 \\pi \\sigma_1^2}} \\exp\\left\\{-\\frac{(x - \\mu_1)^2}{2\\sigma_1^2}\\right\\}$, y $g(x) = \\mathcal{N}(x | \\mu_2, \\sigma_2^2) = \\frac{1}{\\sqrt{2 \\pi \\sigma_2^2}} \\exp\\left\\{-\\frac{(x - \\mu_2)^2}{2\\sigma_2^2}\\right\\}$ dos densidades de VA normales.\n",
    "\n",
    "Demostrar que $f(x)g(x) = \\mathcal{N}(x | \\mu_1, \\sigma_1^2)\\mathcal{N}(x | \\mu_2, \\sigma_2^2) \\propto \\mathcal{N}(x | \\mu_3, \\sigma_3^2)$ es también una densidad de una VA normal, donde\n",
    "\n",
    "$$\n",
    "\\mu_3 = \\frac{\\mu_1 \\sigma_2^2 + \\mu_2 \\sigma_1^2}{\\sigma_1^2+ \\sigma_2^2}, \\qquad \\sigma_3^2 = \\frac{\\sigma_1^2\\sigma_2^2}{\\sigma_1^2+ \\sigma_2^2}\n",
    "$$"
   ]
  },
  {
   "cell_type": "markdown",
   "metadata": {},
   "source": []
  },
  {
   "cell_type": "markdown",
   "metadata": {},
   "source": []
  },
  {
   "cell_type": "markdown",
   "metadata": {},
   "source": []
  },
  {
   "cell_type": "markdown",
   "metadata": {},
   "source": []
  },
  {
   "cell_type": "markdown",
   "metadata": {},
   "source": [
    "<script>\n",
    "  $(document).ready(function(){\n",
    "    $('div.prompt').hide();\n",
    "    $('div.back-to-top').hide();\n",
    "    $('nav#menubar').hide();\n",
    "    $('.breadcrumb').hide();\n",
    "    $('.hidden-print').hide();\n",
    "  });\n",
    "</script>\n",
    "\n",
    "<footer id=\"attribution\" style=\"float:right; color:#808080; background:#fff;\">\n",
    "Created with Jupyter by Esteban Jiménez Rodríguez.\n",
    "</footer>"
   ]
  }
 ],
 "metadata": {
  "kernelspec": {
   "display_name": "Python 3",
   "language": "python",
   "name": "python3"
  },
  "language_info": {
   "codemirror_mode": {
    "name": "ipython",
    "version": 3
   },
   "file_extension": ".py",
   "mimetype": "text/x-python",
   "name": "python",
   "nbconvert_exporter": "python",
   "pygments_lexer": "ipython3",
   "version": "3.7.6"
  }
 },
 "nbformat": 4,
 "nbformat_minor": 4
}
