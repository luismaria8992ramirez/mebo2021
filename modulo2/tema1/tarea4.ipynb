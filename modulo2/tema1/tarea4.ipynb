{
 "cells": [
  {
   "cell_type": "markdown",
   "metadata": {},
   "source": [
    "# Tarea 4. Algoritmo K-Means.\n",
    "\n",
    "<img style=\"float: right; margin: 0px 0px 15px 15px;\" src=\"https://upload.wikimedia.org/wikipedia/commons/e/ea/K-means_convergence.gif\" width=\"200px\" height=\"180px\" />\n",
    "\n",
    "\n",
    "<p style=\"text-align:right;\"> Imagen recuperada de: https://upload.wikimedia.org/wikipedia/commons/e/ea/K-means_convergence.gif</p>\n",
    "\n",
    "___"
   ]
  },
  {
   "cell_type": "markdown",
   "metadata": {},
   "source": [
    "## 1. \n",
    "\n",
    "Programar el algoritmo K-Means en una función."
   ]
  },
  {
   "cell_type": "markdown",
   "metadata": {},
   "source": [
    "1. Inicialización aleatoria de los centroides: para este punto, podemos elegir $k$ puntos aleatorios sobre los que queremos llevar a cabo el clustering como centroides.\n",
    "\n",
    "   La función `np.random.randint` puede ser de mucha utilidad."
   ]
  },
  {
   "cell_type": "code",
   "execution_count": null,
   "metadata": {},
   "outputs": [],
   "source": [
    "# Import numpy\n",
    "import numpy as np"
   ]
  },
  {
   "cell_type": "code",
   "execution_count": null,
   "metadata": {},
   "outputs": [],
   "source": [
    "def init_centroids(X, k):\n",
    "    \"\"\"\n",
    "    Centroids initialization for K-Means algorithm.\n",
    "    :param X: Data.\n",
    "    :param int k: Number of clusters.\n",
    "    :return: Randomly chosen centroids.\n",
    "    \"\"\"\n",
    "    # Dimension\n",
    "    N, d = X.shape\n",
    "    \n",
    "    # Choose k random points from X (Hint: Use np.random.randint(N, size=k)\n",
    "    # Your code goes here:\n",
    "    centroids = ...\n",
    "    \n",
    "    # The centroids must be a k x d array.\n",
    "    assert centroids.shape == (k, d)\n",
    "    \n",
    "    return centroids"
   ]
  },
  {
   "cell_type": "markdown",
   "metadata": {},
   "source": [
    "2. Encontrar centroide más cercano: para este punto, debemos calcular las distancias (norma 2) de cada punto a cada centroide, y después encontrar el centroide más cercano de acuerdo a estas distancias.\n",
    "\n",
    "   La función `np.linalg.norm` puede ser de mucha utilidad."
   ]
  },
  {
   "cell_type": "code",
   "execution_count": null,
   "metadata": {},
   "outputs": [],
   "source": [
    "def closest_centroids(X, centroids):\n",
    "    \"\"\"\n",
    "    Find the closest centroid to each data point.\n",
    "    :param X: Data.\n",
    "    :param centroids: k x d array of centroids.\n",
    "    :return: Cluster ids assigned to each data point.\n",
    "    \"\"\"\n",
    "    # Dimension\n",
    "    N, d = X.shape\n",
    "    # Number of clusters\n",
    "    k = centroids.shape[0]\n",
    "    \n",
    "    # Distances initialization: Position i,j corresponds to the distance from point i to centroid j\n",
    "    distances = np.zeros((N, k))\n",
    "    \n",
    "    for j in range(k):\n",
    "        # Calculate the distances from all points to centroid j (Hint: Use np.linalg.norm(., axis=1))\n",
    "        # Your code goes here:\n",
    "        distances[:, j] = ...\n",
    "    \n",
    "    # Get the closest centroid to each data point\n",
    "    return distances.argmin(axis=1)"
   ]
  },
  {
   "cell_type": "markdown",
   "metadata": {},
   "source": [
    "3. Actualizar centroides: para este punto, debemos actualizar los centroides como la media de los puntos asignados a cada centroide.\n",
    "\n",
    "   La función `np.mean` puede ser de mucha utilidad."
   ]
  },
  {
   "cell_type": "code",
   "execution_count": null,
   "metadata": {},
   "outputs": [],
   "source": [
    "def update_centroids(X, cluster_id, k):\n",
    "    \"\"\"\n",
    "    Find the closest centroid to each data point.\n",
    "    :param X: Data.\n",
    "    :param cluster_id: Array of cluster ids.\n",
    "    :param int k: Number of clusters.\n",
    "    :return: Updated centroids.\n",
    "    \"\"\"\n",
    "    # Dimension\n",
    "    N, d = X.shape\n",
    "    \n",
    "    # Centroids initialization\n",
    "    centroids = np.zeros((k, d))\n",
    "    \n",
    "    for j in range(k):\n",
    "        # Update the centroid j as the mean of the points belonging to cluster j (Hint: Use .mean(., axis=0) method)\n",
    "        # Your code goes here:\n",
    "        centroids[j, :] = ...\n",
    "    \n",
    "    # Updated centroids\n",
    "    return centroids"
   ]
  },
  {
   "cell_type": "markdown",
   "metadata": {},
   "source": [
    "Con lo anterior, el algoritmo K-Means lo podemos escribir de la siguiente manera:"
   ]
  },
  {
   "cell_type": "code",
   "execution_count": null,
   "metadata": {},
   "outputs": [],
   "source": [
    "def kmeans(X, k, max_iter=1000):\n",
    "    \"\"\"\n",
    "    This function implements the K-Means algorithm.\n",
    "    :param X: Data.\n",
    "    :param int k: Number of clusters.\n",
    "    :param int max_iter: Maximum number of iterations.\n",
    "    :return: Cluster ids and centroids.\n",
    "    \"\"\"\n",
    "    # Parameter validation\n",
    "    N, d = X.shape\n",
    "    if k >= N:\n",
    "        raise ValueError(f\"The number of clusters k={k} must be less than the number of data points N={N}.\")\n",
    "    \n",
    "    # Centroids initialization\n",
    "    centroids = init_centroids(X, k)\n",
    "\n",
    "    # Cluster id initialization\n",
    "    cluster_id_aux = -np.ones(N)\n",
    "    \n",
    "    # Repeat until convergence\n",
    "    i = 0\n",
    "    while i < max_iter:\n",
    "        print(i)\n",
    "        # For each point find the closest centroid to assign the cluster\n",
    "        cluster_id = closest_centroids(X, centroids)\n",
    "        \n",
    "        # Update centroids\n",
    "        centroids = update_centroids(X, cluster_id, k)\n",
    "        \n",
    "        # Check convergence\n",
    "        if np.linalg.norm(cluster_id - cluster_id_aux) == 0:\n",
    "            break\n",
    "        else:\n",
    "            cluster_id_aux = cluster_id\n",
    "        \n",
    "        i += 1\n",
    "    \n",
    "    return cluster_id, centroids"
   ]
  },
  {
   "cell_type": "markdown",
   "metadata": {},
   "source": [
    "Ahora, probemos nuestro algoritmo:"
   ]
  },
  {
   "cell_type": "code",
   "execution_count": null,
   "metadata": {},
   "outputs": [],
   "source": [
    "# Importamos función para generar datos\n",
    "from bank_customer_data import generate_bank_customer_data\n",
    "# Importamos pyplot\n",
    "from matplotlib import pyplot as plt"
   ]
  },
  {
   "cell_type": "code",
   "execution_count": null,
   "metadata": {},
   "outputs": [],
   "source": [
    "# Generamos datos\n",
    "data = generate_bank_customer_data()"
   ]
  },
  {
   "cell_type": "code",
   "execution_count": null,
   "metadata": {},
   "outputs": [],
   "source": [
    "c_id, centroids = kmeans(data[[\"income\", \"debt\"]].to_numpy(), k=3)"
   ]
  },
  {
   "cell_type": "code",
   "execution_count": null,
   "metadata": {},
   "outputs": [],
   "source": [
    "# Gráfico\n",
    "plt.scatter(data[\"income\"], data[\"debt\"], c=c_id, cmap=\"Accent\", alpha=0.6)\n",
    "plt.plot(centroids[0, 0], centroids[0, 1], \"*g\", ms=20)\n",
    "plt.plot(centroids[1, 0], centroids[1, 1], \"*b\", ms=20)\n",
    "plt.plot(centroids[2, 0], centroids[2, 1], \"*k\", ms=20)\n",
    "plt.xlabel(\"Ingresos mensuales (x100k MXN)\")\n",
    "plt.ylabel(\"Deuda (x100k MXN)\")"
   ]
  },
  {
   "cell_type": "markdown",
   "metadata": {},
   "source": [
    "¿Qué tal los resultados?"
   ]
  },
  {
   "cell_type": "markdown",
   "metadata": {},
   "source": [
    "<script>\n",
    "  $(document).ready(function(){\n",
    "    $('div.prompt').hide();\n",
    "    $('div.back-to-top').hide();\n",
    "    $('nav#menubar').hide();\n",
    "    $('.breadcrumb').hide();\n",
    "    $('.hidden-print').hide();\n",
    "  });\n",
    "</script>\n",
    "\n",
    "<footer id=\"attribution\" style=\"float:right; color:#808080; background:#fff;\">\n",
    "Created with Jupyter by Esteban Jiménez Rodríguez.\n",
    "</footer>"
   ]
  }
 ],
 "metadata": {
  "kernelspec": {
   "display_name": "Python 3",
   "language": "python",
   "name": "python3"
  },
  "language_info": {
   "codemirror_mode": {
    "name": "ipython",
    "version": 3
   },
   "file_extension": ".py",
   "mimetype": "text/x-python",
   "name": "python",
   "nbconvert_exporter": "python",
   "pygments_lexer": "ipython3",
   "version": "3.7.6"
  }
 },
 "nbformat": 4,
 "nbformat_minor": 4
}
